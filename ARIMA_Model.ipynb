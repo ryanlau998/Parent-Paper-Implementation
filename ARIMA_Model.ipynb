{
  "nbformat": 4,
  "nbformat_minor": 0,
  "metadata": {
    "colab": {
      "name": "ARIMA_Model.ipynb",
      "provenance": [],
      "collapsed_sections": []
    },
    "kernelspec": {
      "name": "python3",
      "display_name": "Python 3"
    }
  },
  "cells": [
    {
      "cell_type": "markdown",
      "metadata": {
        "id": "view-in-github"
      },
      "source": [
        "<a href=\"https://colab.research.google.com/github/amanjain252002/Stock-Price-Prediction/blob/main/ARIMA_Model.ipynb\" target=\"_parent\"><img src=\"https://colab.research.google.com/assets/colab-badge.svg\" alt=\"Open In Colab\"/></a>"
      ]
    },
    {
      "cell_type": "code",
      "source": [
        "from google.colab import drive\n",
        "drive.mount('/content/drive')"
      ],
      "metadata": {
        "colab": {
          "base_uri": "https://localhost:8080/"
        },
        "id": "KM4Jpc5UInB7",
        "outputId": "a1cb5498-f371-44c7-d8fd-956706db40d1"
      },
      "execution_count": 1,
      "outputs": [
        {
          "output_type": "stream",
          "name": "stdout",
          "text": [
            "Drive already mounted at /content/drive; to attempt to forcibly remount, call drive.mount(\"/content/drive\", force_remount=True).\n"
          ]
        }
      ]
    },
    {
      "cell_type": "code",
      "metadata": {
        "id": "_-qNpaWK9cI2",
        "colab": {
          "base_uri": "https://localhost:8080/"
        },
        "outputId": "7adff1f2-c125-4ca1-e325-0424f013cdb9"
      },
      "source": [
        "!pip install pmdarima"
      ],
      "execution_count": 2,
      "outputs": [
        {
          "output_type": "stream",
          "name": "stdout",
          "text": [
            "Requirement already satisfied: pmdarima in /usr/local/lib/python3.7/dist-packages (1.8.5)\n",
            "Requirement already satisfied: scikit-learn>=0.22 in /usr/local/lib/python3.7/dist-packages (from pmdarima) (1.0.2)\n",
            "Requirement already satisfied: Cython!=0.29.18,>=0.29 in /usr/local/lib/python3.7/dist-packages (from pmdarima) (0.29.28)\n",
            "Requirement already satisfied: scipy>=1.3.2 in /usr/local/lib/python3.7/dist-packages (from pmdarima) (1.4.1)\n",
            "Requirement already satisfied: setuptools!=50.0.0,>=38.6.0 in /usr/local/lib/python3.7/dist-packages (from pmdarima) (57.4.0)\n",
            "Requirement already satisfied: numpy>=1.19.3 in /usr/local/lib/python3.7/dist-packages (from pmdarima) (1.21.5)\n",
            "Requirement already satisfied: pandas>=0.19 in /usr/local/lib/python3.7/dist-packages (from pmdarima) (1.3.5)\n",
            "Requirement already satisfied: urllib3 in /usr/local/lib/python3.7/dist-packages (from pmdarima) (1.24.3)\n",
            "Requirement already satisfied: joblib>=0.11 in /usr/local/lib/python3.7/dist-packages (from pmdarima) (1.1.0)\n",
            "Requirement already satisfied: statsmodels!=0.12.0,>=0.11 in /usr/local/lib/python3.7/dist-packages (from pmdarima) (0.13.2)\n",
            "Requirement already satisfied: pytz>=2017.3 in /usr/local/lib/python3.7/dist-packages (from pandas>=0.19->pmdarima) (2018.9)\n",
            "Requirement already satisfied: python-dateutil>=2.7.3 in /usr/local/lib/python3.7/dist-packages (from pandas>=0.19->pmdarima) (2.8.2)\n",
            "Requirement already satisfied: six>=1.5 in /usr/local/lib/python3.7/dist-packages (from python-dateutil>=2.7.3->pandas>=0.19->pmdarima) (1.15.0)\n",
            "Requirement already satisfied: threadpoolctl>=2.0.0 in /usr/local/lib/python3.7/dist-packages (from scikit-learn>=0.22->pmdarima) (3.1.0)\n",
            "Requirement already satisfied: patsy>=0.5.2 in /usr/local/lib/python3.7/dist-packages (from statsmodels!=0.12.0,>=0.11->pmdarima) (0.5.2)\n",
            "Requirement already satisfied: packaging>=21.3 in /usr/local/lib/python3.7/dist-packages (from statsmodels!=0.12.0,>=0.11->pmdarima) (21.3)\n",
            "Requirement already satisfied: pyparsing!=3.0.5,>=2.0.2 in /usr/local/lib/python3.7/dist-packages (from packaging>=21.3->statsmodels!=0.12.0,>=0.11->pmdarima) (3.0.7)\n"
          ]
        }
      ]
    },
    {
      "cell_type": "code",
      "metadata": {
        "id": "Rhpi0R3g7GdO"
      },
      "source": [
        "import math\n",
        "import numpy as np\n",
        "import pandas as pd\n",
        "import matplotlib.pyplot as plt\n",
        "\n",
        "from statsmodels.tsa.stattools import adfuller\n",
        "from statsmodels.tsa.arima_model import ARIMA\n",
        "\n",
        "from pmdarima.arima import auto_arima\n",
        "from sklearn.metrics import mean_squared_error, mean_absolute_error\n",
        "\n",
        "import warnings\n",
        "warnings.filterwarnings('ignore')"
      ],
      "execution_count": 25,
      "outputs": []
    },
    {
      "cell_type": "code",
      "source": [
        "import statsmodels.api as sm"
      ],
      "metadata": {
        "id": "llQY8nvQb_-L"
      },
      "execution_count": 26,
      "outputs": []
    },
    {
      "cell_type": "code",
      "metadata": {
        "id": "dkISue9H9LUn"
      },
      "source": [
        "AAPL = pd.read_csv(\"/content/drive/MyDrive/Pre_Processed_AAPL.csv\")\n",
        "TSLA = pd.read_csv(\"/content/drive/MyDrive/Pre_Processed_TSLA.csv\")\n",
        "GOOG = pd.read_csv(\"/content/drive/MyDrive/Pre_Processed_GOOG.csv\")\n",
        "MSFT = pd.read_csv(\"/content/drive/MyDrive/Pre_Processed_MSFT.csv\")\n",
        "AMZN = pd.read_csv(\"/content/drive/MyDrive/Pre_Processed_AMZN.csv\")"
      ],
      "execution_count": 4,
      "outputs": []
    },
    {
      "cell_type": "markdown",
      "metadata": {
        "id": "M9SHWv1OGe6T"
      },
      "source": [
        "The Dickey-Fuller test is one of the most popular statistical tests. It can be used to determine the presence of unit root in the series and help us understand if the series is stationary.\n",
        "\n",
        "**Null Hypothesis**: The series has a unit root\n",
        "\n",
        "**Alternate Hypothesis**: The series has no unit root.\n",
        "\n",
        "If we fail to reject the Null Hypothesis, then the series is non-stationary."
      ]
    },
    {
      "cell_type": "code",
      "metadata": {
        "id": "JVVghS_J-alF"
      },
      "source": [
        "def Test_Stationarity(timeseries):\n",
        "  result = adfuller(timeseries['Adj. Close'], autolag = 'AIC')\n",
        "  print(\"Results of Dickey Fuller Test\")\n",
        "  print(f'Test Statistics: {result[0]}')\n",
        "  print(f'p-value: {result[1]}')\n",
        "  print(f'Number of lags used: {result[2]}')\n",
        "  print(f'Number of observations used: {result[3]}')\n",
        "  for key, value in result[4].items():\n",
        "    print(f'critical value ({key}): {value}')"
      ],
      "execution_count": 5,
      "outputs": []
    },
    {
      "cell_type": "markdown",
      "metadata": {
        "id": "4qeGKFCsyrfX"
      },
      "source": [
        "#Apple"
      ]
    },
    {
      "cell_type": "code",
      "metadata": {
        "colab": {
          "base_uri": "https://localhost:8080/",
          "height": 206
        },
        "id": "VVTvtUnT-MVb",
        "outputId": "2834a1ef-9778-478f-c2fe-97f1ead34f07"
      },
      "source": [
        "AAPL.head()"
      ],
      "execution_count": 6,
      "outputs": [
        {
          "output_type": "execute_result",
          "data": {
            "text/plain": [
              "         Date   Open   High    Low  Close  Adj. Close       Volume\n",
              "0  2015-01-02  27.85  27.86  26.84  27.33       24.86  212818400.0\n",
              "1  2015-01-05  27.07  27.16  26.35  26.56       24.16  257142000.0\n",
              "2  2015-01-06  26.64  26.86  26.16  26.57       24.16  263188400.0\n",
              "3  2015-01-07  26.80  27.05  26.67  26.94       24.50  160423600.0\n",
              "4  2015-01-08  27.31  28.04  27.17  27.97       25.44  237458000.0"
            ],
            "text/html": [
              "\n",
              "  <div id=\"df-ee3850ad-51f6-416b-8a6b-8cbdaf97cd0c\">\n",
              "    <div class=\"colab-df-container\">\n",
              "      <div>\n",
              "<style scoped>\n",
              "    .dataframe tbody tr th:only-of-type {\n",
              "        vertical-align: middle;\n",
              "    }\n",
              "\n",
              "    .dataframe tbody tr th {\n",
              "        vertical-align: top;\n",
              "    }\n",
              "\n",
              "    .dataframe thead th {\n",
              "        text-align: right;\n",
              "    }\n",
              "</style>\n",
              "<table border=\"1\" class=\"dataframe\">\n",
              "  <thead>\n",
              "    <tr style=\"text-align: right;\">\n",
              "      <th></th>\n",
              "      <th>Date</th>\n",
              "      <th>Open</th>\n",
              "      <th>High</th>\n",
              "      <th>Low</th>\n",
              "      <th>Close</th>\n",
              "      <th>Adj. Close</th>\n",
              "      <th>Volume</th>\n",
              "    </tr>\n",
              "  </thead>\n",
              "  <tbody>\n",
              "    <tr>\n",
              "      <th>0</th>\n",
              "      <td>2015-01-02</td>\n",
              "      <td>27.85</td>\n",
              "      <td>27.86</td>\n",
              "      <td>26.84</td>\n",
              "      <td>27.33</td>\n",
              "      <td>24.86</td>\n",
              "      <td>212818400.0</td>\n",
              "    </tr>\n",
              "    <tr>\n",
              "      <th>1</th>\n",
              "      <td>2015-01-05</td>\n",
              "      <td>27.07</td>\n",
              "      <td>27.16</td>\n",
              "      <td>26.35</td>\n",
              "      <td>26.56</td>\n",
              "      <td>24.16</td>\n",
              "      <td>257142000.0</td>\n",
              "    </tr>\n",
              "    <tr>\n",
              "      <th>2</th>\n",
              "      <td>2015-01-06</td>\n",
              "      <td>26.64</td>\n",
              "      <td>26.86</td>\n",
              "      <td>26.16</td>\n",
              "      <td>26.57</td>\n",
              "      <td>24.16</td>\n",
              "      <td>263188400.0</td>\n",
              "    </tr>\n",
              "    <tr>\n",
              "      <th>3</th>\n",
              "      <td>2015-01-07</td>\n",
              "      <td>26.80</td>\n",
              "      <td>27.05</td>\n",
              "      <td>26.67</td>\n",
              "      <td>26.94</td>\n",
              "      <td>24.50</td>\n",
              "      <td>160423600.0</td>\n",
              "    </tr>\n",
              "    <tr>\n",
              "      <th>4</th>\n",
              "      <td>2015-01-08</td>\n",
              "      <td>27.31</td>\n",
              "      <td>28.04</td>\n",
              "      <td>27.17</td>\n",
              "      <td>27.97</td>\n",
              "      <td>25.44</td>\n",
              "      <td>237458000.0</td>\n",
              "    </tr>\n",
              "  </tbody>\n",
              "</table>\n",
              "</div>\n",
              "      <button class=\"colab-df-convert\" onclick=\"convertToInteractive('df-ee3850ad-51f6-416b-8a6b-8cbdaf97cd0c')\"\n",
              "              title=\"Convert this dataframe to an interactive table.\"\n",
              "              style=\"display:none;\">\n",
              "        \n",
              "  <svg xmlns=\"http://www.w3.org/2000/svg\" height=\"24px\"viewBox=\"0 0 24 24\"\n",
              "       width=\"24px\">\n",
              "    <path d=\"M0 0h24v24H0V0z\" fill=\"none\"/>\n",
              "    <path d=\"M18.56 5.44l.94 2.06.94-2.06 2.06-.94-2.06-.94-.94-2.06-.94 2.06-2.06.94zm-11 1L8.5 8.5l.94-2.06 2.06-.94-2.06-.94L8.5 2.5l-.94 2.06-2.06.94zm10 10l.94 2.06.94-2.06 2.06-.94-2.06-.94-.94-2.06-.94 2.06-2.06.94z\"/><path d=\"M17.41 7.96l-1.37-1.37c-.4-.4-.92-.59-1.43-.59-.52 0-1.04.2-1.43.59L10.3 9.45l-7.72 7.72c-.78.78-.78 2.05 0 2.83L4 21.41c.39.39.9.59 1.41.59.51 0 1.02-.2 1.41-.59l7.78-7.78 2.81-2.81c.8-.78.8-2.07 0-2.86zM5.41 20L4 18.59l7.72-7.72 1.47 1.35L5.41 20z\"/>\n",
              "  </svg>\n",
              "      </button>\n",
              "      \n",
              "  <style>\n",
              "    .colab-df-container {\n",
              "      display:flex;\n",
              "      flex-wrap:wrap;\n",
              "      gap: 12px;\n",
              "    }\n",
              "\n",
              "    .colab-df-convert {\n",
              "      background-color: #E8F0FE;\n",
              "      border: none;\n",
              "      border-radius: 50%;\n",
              "      cursor: pointer;\n",
              "      display: none;\n",
              "      fill: #1967D2;\n",
              "      height: 32px;\n",
              "      padding: 0 0 0 0;\n",
              "      width: 32px;\n",
              "    }\n",
              "\n",
              "    .colab-df-convert:hover {\n",
              "      background-color: #E2EBFA;\n",
              "      box-shadow: 0px 1px 2px rgba(60, 64, 67, 0.3), 0px 1px 3px 1px rgba(60, 64, 67, 0.15);\n",
              "      fill: #174EA6;\n",
              "    }\n",
              "\n",
              "    [theme=dark] .colab-df-convert {\n",
              "      background-color: #3B4455;\n",
              "      fill: #D2E3FC;\n",
              "    }\n",
              "\n",
              "    [theme=dark] .colab-df-convert:hover {\n",
              "      background-color: #434B5C;\n",
              "      box-shadow: 0px 1px 3px 1px rgba(0, 0, 0, 0.15);\n",
              "      filter: drop-shadow(0px 1px 2px rgba(0, 0, 0, 0.3));\n",
              "      fill: #FFFFFF;\n",
              "    }\n",
              "  </style>\n",
              "\n",
              "      <script>\n",
              "        const buttonEl =\n",
              "          document.querySelector('#df-ee3850ad-51f6-416b-8a6b-8cbdaf97cd0c button.colab-df-convert');\n",
              "        buttonEl.style.display =\n",
              "          google.colab.kernel.accessAllowed ? 'block' : 'none';\n",
              "\n",
              "        async function convertToInteractive(key) {\n",
              "          const element = document.querySelector('#df-ee3850ad-51f6-416b-8a6b-8cbdaf97cd0c');\n",
              "          const dataTable =\n",
              "            await google.colab.kernel.invokeFunction('convertToInteractive',\n",
              "                                                     [key], {});\n",
              "          if (!dataTable) return;\n",
              "\n",
              "          const docLinkHtml = 'Like what you see? Visit the ' +\n",
              "            '<a target=\"_blank\" href=https://colab.research.google.com/notebooks/data_table.ipynb>data table notebook</a>'\n",
              "            + ' to learn more about interactive tables.';\n",
              "          element.innerHTML = '';\n",
              "          dataTable['output_type'] = 'display_data';\n",
              "          await google.colab.output.renderOutput(dataTable, element);\n",
              "          const docLink = document.createElement('div');\n",
              "          docLink.innerHTML = docLinkHtml;\n",
              "          element.appendChild(docLink);\n",
              "        }\n",
              "      </script>\n",
              "    </div>\n",
              "  </div>\n",
              "  "
            ]
          },
          "metadata": {},
          "execution_count": 6
        }
      ]
    },
    {
      "cell_type": "code",
      "metadata": {
        "colab": {
          "base_uri": "https://localhost:8080/"
        },
        "id": "wuisU-jvHlV_",
        "outputId": "43cb6e8d-dab1-43f5-f53b-b46c3c1177d9"
      },
      "source": [
        "AAPL.info()"
      ],
      "execution_count": 8,
      "outputs": [
        {
          "output_type": "stream",
          "name": "stdout",
          "text": [
            "<class 'pandas.core.frame.DataFrame'>\n",
            "RangeIndex: 1549 entries, 0 to 1548\n",
            "Data columns (total 7 columns):\n",
            " #   Column      Non-Null Count  Dtype  \n",
            "---  ------      --------------  -----  \n",
            " 0   Date        1549 non-null   object \n",
            " 1   Open        1549 non-null   float64\n",
            " 2   High        1549 non-null   float64\n",
            " 3   Low         1549 non-null   float64\n",
            " 4   Close       1549 non-null   float64\n",
            " 5   Adj. Close  1549 non-null   float64\n",
            " 6   Volume      1549 non-null   float64\n",
            "dtypes: float64(6), object(1)\n",
            "memory usage: 84.8+ KB\n"
          ]
        }
      ]
    },
    {
      "cell_type": "code",
      "metadata": {
        "id": "cMpcNnJH-H7f"
      },
      "source": [
        "# Change Dtype of Date column\n",
        "AAPL[\"Date\"] = pd.to_datetime(AAPL[\"Date\"])"
      ],
      "execution_count": 9,
      "outputs": []
    },
    {
      "cell_type": "code",
      "metadata": {
        "colab": {
          "base_uri": "https://localhost:8080/"
        },
        "id": "kH2oGK37-S7Y",
        "outputId": "e693efa7-0d76-4a2f-9e3b-080d2bc75b89"
      },
      "source": [
        "Test_Stationarity(AAPL)"
      ],
      "execution_count": 10,
      "outputs": [
        {
          "output_type": "stream",
          "name": "stdout",
          "text": [
            "Results of Dickey Fuller Test\n",
            "Test Statistics: 1.120722206443354\n",
            "p-value: 0.9953896550774385\n",
            "Number of lags used: 24\n",
            "Number of observations used: 1524\n",
            "critical value (1%): -3.4346481290263013\n",
            "critical value (5%): -2.8634383565975736\n",
            "critical value (10%): -2.567780658251872\n"
          ]
        }
      ]
    },
    {
      "cell_type": "markdown",
      "metadata": {
        "id": "XA4ZLgJtIiKK"
      },
      "source": [
        "The p-value > 0.05, so we cannot reject the Null hypothesis. Hence, we would need to use the “Integrated (I)” concept, denoted by value ‘d’ in time series, to make the data stationary while building the Auto ARIMA model."
      ]
    },
    {
      "cell_type": "markdown",
      "metadata": {
        "id": "ef-Xz6gHLiKA"
      },
      "source": [
        "Now let's take log of the 'Adj. Close' column to reduce the magnitude of the values and reduce the series rising trend."
      ]
    },
    {
      "cell_type": "code",
      "metadata": {
        "colab": {
          "base_uri": "https://localhost:8080/",
          "height": 367
        },
        "id": "r1NMAJkTiC9s",
        "outputId": "46923526-0dd9-4957-b470-3fb22fed6819"
      },
      "source": [
        "AAPL['log Adj. Close'] = np.log(AAPL['Adj. Close'])\n",
        "AAPL_log_moving_avg = AAPL['log Adj. Close'].rolling(12).mean()\n",
        "AAPL_log_std = AAPL['log Adj. Close'].rolling(12).std()\n",
        "\n",
        "plt.figure(figsize = (10, 5))\n",
        "plt.plot(AAPL['Date'], AAPL_log_moving_avg, label = \"Rolling Mean\")\n",
        "plt.plot(AAPL['Date'], AAPL_log_std, label = \"Rolling Std\")\n",
        "plt.xlabel('Time')\n",
        "plt.ylabel('log Adj. Close')\n",
        "plt.legend(loc = 'best')\n",
        "plt.title(\"Rolling Mean and Standard Deviation\")"
      ],
      "execution_count": 11,
      "outputs": [
        {
          "output_type": "execute_result",
          "data": {
            "text/plain": [
              "Text(0.5, 1.0, 'Rolling Mean and Standard Deviation')"
            ]
          },
          "metadata": {},
          "execution_count": 11
        },
        {
          "output_type": "display_data",
          "data": {
            "text/plain": [
              "<Figure size 720x360 with 1 Axes>"
            ],
            "image/png": "[encoded data removed]"
          },
          "metadata": {
            "needs_background": "light"
          }
        }
      ]
    },
    {
      "cell_type": "markdown",
      "metadata": {
        "id": "AG_0TS7PL34W"
      },
      "source": [
        "###Split the data into training and test set\n",
        "\n",
        "    Training Period: 2015-01-02 - 2020-09-30\n",
        "\n",
        "    Testing Period:  2020-10-01 - 2021-02-26\n",
        "\n",
        "\n",
        "\n",
        "\n",
        "\n"
      ]
    },
    {
      "cell_type": "code",
      "metadata": {
        "colab": {
          "base_uri": "https://localhost:8080/",
          "height": 351
        },
        "id": "5-gIeq0bDrFz",
        "outputId": "cccf61cf-7cdb-4ed9-8925-bd599306c08e"
      },
      "source": [
        "AAPL_Train_Data = AAPL[AAPL['Date'] < '2020-10-01']\n",
        "AAPL_Test_Data = AAPL[AAPL['Date'] >= '2020-10-01'].reset_index(drop = True)\n",
        "\n",
        "plt.figure(figsize = (10, 5))\n",
        "plt.plot(AAPL_Train_Data['Date'], AAPL_Train_Data['log Adj. Close'], label = 'Train Data')\n",
        "plt.plot(AAPL_Test_Data['Date'], AAPL_Test_Data['log Adj. Close'], label = 'Test Data')\n",
        "plt.xlabel('Time')\n",
        "plt.ylabel('log Adj. Close')\n",
        "plt.legend(loc = 'best')"
      ],
      "execution_count": 12,
      "outputs": [
        {
          "output_type": "execute_result",
          "data": {
            "text/plain": [
              "<matplotlib.legend.Legend at 0x7fe459ff5e10>"
            ]
          },
          "metadata": {},
          "execution_count": 12
        },
        {
          "output_type": "display_data",
          "data": {
            "text/plain": [
              "<Figure size 720x360 with 1 Axes>"
            ],
            "image/png": "[encoded data removed]"
          },
          "metadata": {
            "needs_background": "light"
          }
        }
      ]
    },
    {
      "cell_type": "markdown",
      "metadata": {
        "id": "AfBHrHl4RSD1"
      },
      "source": [
        "###Modeling"
      ]
    },
    {
      "cell_type": "code",
      "metadata": {
        "colab": {
          "base_uri": "https://localhost:8080/"
        },
        "id": "eimPhA-fIKrz",
        "outputId": "35e02730-d759-4ac2-b171-a8d20ce2296b"
      },
      "source": [
        "AAPL_Auto_ARIMA_Model = auto_arima(AAPL_Train_Data['log Adj. Close'], seasonal = False,\n",
        "                                   error_action = 'ignore', suppress_warnings = True)\n",
        "print(AAPL_Auto_ARIMA_Model.summary())"
      ],
      "execution_count": 13,
      "outputs": [
        {
          "output_type": "stream",
          "name": "stdout",
          "text": [
            "                               SARIMAX Results                                \n",
            "==============================================================================\n",
            "Dep. Variable:                      y   No. Observations:                 1447\n",
            "Model:               SARIMAX(1, 1, 0)   Log Likelihood                3721.627\n",
            "Date:                Thu, 24 Mar 2022   AIC                          -7437.254\n",
            "Time:                        00:57:01   BIC                          -7421.424\n",
            "Sample:                             0   HQIC                         -7431.346\n",
            "                               - 1447                                         \n",
            "Covariance Type:                  opg                                         \n",
            "==============================================================================\n",
            "                 coef    std err          z      P>|z|      [0.025      0.975]\n",
            "------------------------------------------------------------------------------\n",
            "intercept      0.0012      0.000      2.366      0.018       0.000       0.002\n",
            "ar.L1         -0.0981      0.015     -6.535      0.000      -0.127      -0.069\n",
            "sigma2         0.0003   6.51e-06     52.314      0.000       0.000       0.000\n",
            "===================================================================================\n",
            "Ljung-Box (L1) (Q):                   0.00   Jarque-Bera (JB):              2680.38\n",
            "Prob(Q):                              0.98   Prob(JB):                         0.00\n",
            "Heteroskedasticity (H):               2.25   Skew:                            -0.40\n",
            "Prob(H) (two-sided):                  0.00   Kurtosis:                         9.62\n",
            "===================================================================================\n",
            "\n",
            "Warnings:\n",
            "[1] Covariance matrix calculated using the outer product of gradients (complex-step).\n"
          ]
        }
      ]
    },
    {
      "cell_type": "code",
      "metadata": {
        "colab": {
          "base_uri": "https://localhost:8080/"
        },
        "id": "eh1Pc10YKQ5h",
        "outputId": "3ce20889-0c4c-45b9-aa99-6c7c766e1b5a"
      },
      "source": [
        "AAPL_ARIMA_Model = sm.tsa.arima.ARIMA(AAPL_Train_Data['log Adj. Close'], order = (1, 1, 0))\n",
        "AAPL_ARIMA_Model_Fit = AAPL_ARIMA_Model.fit()\n",
        "print(AAPL_ARIMA_Model_Fit.summary())"
      ],
      "execution_count": 27,
      "outputs": [
        {
          "output_type": "stream",
          "name": "stdout",
          "text": [
            "                               SARIMAX Results                                \n",
            "==============================================================================\n",
            "Dep. Variable:         log Adj. Close   No. Observations:                 1447\n",
            "Model:                 ARIMA(1, 1, 0)   Log Likelihood                3718.749\n",
            "Date:                Thu, 24 Mar 2022   AIC                          -7433.498\n",
            "Time:                        01:02:36   BIC                          -7422.945\n",
            "Sample:                             0   HQIC                         -7429.560\n",
            "                               - 1447                                         \n",
            "Covariance Type:                  opg                                         \n",
            "==============================================================================\n",
            "                 coef    std err          z      P>|z|      [0.025      0.975]\n",
            "------------------------------------------------------------------------------\n",
            "ar.L1         -0.0944      0.015     -6.302      0.000      -0.124      -0.065\n",
            "sigma2         0.0003   6.51e-06     52.451      0.000       0.000       0.000\n",
            "===================================================================================\n",
            "Ljung-Box (L1) (Q):                   0.01   Jarque-Bera (JB):              2699.37\n",
            "Prob(Q):                              0.91   Prob(JB):                         0.00\n",
            "Heteroskedasticity (H):               2.28   Skew:                            -0.40\n",
            "Prob(H) (two-sided):                  0.00   Kurtosis:                         9.64\n",
            "===================================================================================\n",
            "\n",
            "Warnings:\n",
            "[1] Covariance matrix calculated using the outer product of gradients (complex-step).\n"
          ]
        }
      ]
    },
    {
      "cell_type": "markdown",
      "metadata": {
        "id": "RlxQTJS1MxLU"
      },
      "source": [
        "###Predicting the closing stock price of Apple"
      ]
    },
    {
      "cell_type": "code",
      "metadata": {
        "colab": {
          "base_uri": "https://localhost:8080/",
          "height": 351
        },
        "id": "iAPswyN9LSX3",
        "outputId": "611ebb41-dce3-4274-8ead-364cb53fd8bc"
      },
      "source": [
        "AAPL_output = AAPL_ARIMA_Model_Fit.forecast(102, alpha=0.05)\n",
        "AAPL_predictions = np.exp(AAPL_output)\n",
        "plt.figure(figsize=(10, 5))\n",
        "plt.plot(AAPL_Train_Data['Date'], AAPL_Train_Data['Adj. Close'], label = 'Training')\n",
        "plt.plot(AAPL_Test_Data['Date'], AAPL_Test_Data['Adj. Close'], label = 'Testing')\n",
        "plt.plot(AAPL_Test_Data['Date'], AAPL_predictions, label = 'Predictions')\n",
        "plt.xlabel('Time')\n",
        "plt.ylabel('Closing Price')\n",
        "plt.legend()"
      ],
      "execution_count": 34,
      "outputs": [
        {
          "output_type": "execute_result",
          "data": {
            "text/plain": [
              "<matplotlib.legend.Legend at 0x7fe455af9a90>"
            ]
          },
          "metadata": {},
          "execution_count": 34
        },
        {
          "output_type": "display_data",
          "data": {
            "text/plain": [
              "<Figure size 720x360 with 1 Axes>"
            ],
            "image/png": "[encoded data removed]"
          },
          "metadata": {
            "needs_background": "light"
          }
        }
      ]
    },
    {
      "cell_type": "code",
      "metadata": {
        "colab": {
          "base_uri": "https://localhost:8080/"
        },
        "id": "IcMJb9URK0dj",
        "outputId": "a72ae6bc-a913-4ad0-b1b9-a5181cda85b3"
      },
      "source": [
        "rmse = math.sqrt(mean_squared_error(AAPL_Test_Data['Adj. Close'], AAPL_predictions))\n",
        "mape = np.mean(np.abs(AAPL_predictions - AAPL_Test_Data['Adj. Close'])/np.abs(AAPL_Test_Data['Adj. Close']))\n",
        "\n",
        "print(f'RMSE: {rmse}')\n",
        "print(f'MAPE: {mape}')"
      ],
      "execution_count": null,
      "outputs": [
        {
          "output_type": "stream",
          "name": "stdout",
          "text": [
            "RMSE: 12.483579700355461\n",
            "MAPE: nan\n"
          ]
        }
      ]
    },
    {
      "cell_type": "markdown",
      "metadata": {
        "id": "f1W_Gggpy0kg"
      },
      "source": [
        "#Tesla"
      ]
    },
    {
      "cell_type": "code",
      "metadata": {
        "colab": {
          "base_uri": "https://localhost:8080/",
          "height": 206
        },
        "id": "pJWCwitvoSas",
        "outputId": "0055e3e7-df34-4ae3-c80c-4e8860e2f663"
      },
      "source": [
        "TSLA.head()"
      ],
      "execution_count": null,
      "outputs": [
        {
          "output_type": "execute_result",
          "data": {
            "text/plain": [
              "         Date   Open   High    Low  Close  Adj. Close      Volume\n",
              "0  2015-01-02  44.57  44.65  42.65  43.86       43.86  23822000.0\n",
              "1  2015-01-05  42.91  43.30  41.43  42.02       42.02  26842500.0\n",
              "2  2015-01-06  42.01  42.84  40.84  42.26       42.26  31309500.0\n",
              "3  2015-01-07  42.67  42.96  41.96  42.19       42.19  14842000.0\n",
              "4  2015-01-08  42.56  42.76  42.00  42.12       42.12  17212500.0"
            ],
            "text/html": [
              "\n",
              "  <div id=\"df-d832bd28-695d-4531-8fa3-b59b47b16c3a\">\n",
              "    <div class=\"colab-df-container\">\n",
              "      <div>\n",
              "<style scoped>\n",
              "    .dataframe tbody tr th:only-of-type {\n",
              "        vertical-align: middle;\n",
              "    }\n",
              "\n",
              "    .dataframe tbody tr th {\n",
              "        vertical-align: top;\n",
              "    }\n",
              "\n",
              "    .dataframe thead th {\n",
              "        text-align: right;\n",
              "    }\n",
              "</style>\n",
              "<table border=\"1\" class=\"dataframe\">\n",
              "  <thead>\n",
              "    <tr style=\"text-align: right;\">\n",
              "      <th></th>\n",
              "      <th>Date</th>\n",
              "      <th>Open</th>\n",
              "      <th>High</th>\n",
              "      <th>Low</th>\n",
              "      <th>Close</th>\n",
              "      <th>Adj. Close</th>\n",
              "      <th>Volume</th>\n",
              "    </tr>\n",
              "  </thead>\n",
              "  <tbody>\n",
              "    <tr>\n",
              "      <th>0</th>\n",
              "      <td>2015-01-02</td>\n",
              "      <td>44.57</td>\n",
              "      <td>44.65</td>\n",
              "      <td>42.65</td>\n",
              "      <td>43.86</td>\n",
              "      <td>43.86</td>\n",
              "      <td>23822000.0</td>\n",
              "    </tr>\n",
              "    <tr>\n",
              "      <th>1</th>\n",
              "      <td>2015-01-05</td>\n",
              "      <td>42.91</td>\n",
              "      <td>43.30</td>\n",
              "      <td>41.43</td>\n",
              "      <td>42.02</td>\n",
              "      <td>42.02</td>\n",
              "      <td>26842500.0</td>\n",
              "    </tr>\n",
              "    <tr>\n",
              "      <th>2</th>\n",
              "      <td>2015-01-06</td>\n",
              "      <td>42.01</td>\n",
              "      <td>42.84</td>\n",
              "      <td>40.84</td>\n",
              "      <td>42.26</td>\n",
              "      <td>42.26</td>\n",
              "      <td>31309500.0</td>\n",
              "    </tr>\n",
              "    <tr>\n",
              "      <th>3</th>\n",
              "      <td>2015-01-07</td>\n",
              "      <td>42.67</td>\n",
              "      <td>42.96</td>\n",
              "      <td>41.96</td>\n",
              "      <td>42.19</td>\n",
              "      <td>42.19</td>\n",
              "      <td>14842000.0</td>\n",
              "    </tr>\n",
              "    <tr>\n",
              "      <th>4</th>\n",
              "      <td>2015-01-08</td>\n",
              "      <td>42.56</td>\n",
              "      <td>42.76</td>\n",
              "      <td>42.00</td>\n",
              "      <td>42.12</td>\n",
              "      <td>42.12</td>\n",
              "      <td>17212500.0</td>\n",
              "    </tr>\n",
              "  </tbody>\n",
              "</table>\n",
              "</div>\n",
              "      <button class=\"colab-df-convert\" onclick=\"convertToInteractive('df-d832bd28-695d-4531-8fa3-b59b47b16c3a')\"\n",
              "              title=\"Convert this dataframe to an interactive table.\"\n",
              "              style=\"display:none;\">\n",
              "        \n",
              "  <svg xmlns=\"http://www.w3.org/2000/svg\" height=\"24px\"viewBox=\"0 0 24 24\"\n",
              "       width=\"24px\">\n",
              "    <path d=\"M0 0h24v24H0V0z\" fill=\"none\"/>\n",
              "    <path d=\"M18.56 5.44l.94 2.06.94-2.06 2.06-.94-2.06-.94-.94-2.06-.94 2.06-2.06.94zm-11 1L8.5 8.5l.94-2.06 2.06-.94-2.06-.94L8.5 2.5l-.94 2.06-2.06.94zm10 10l.94 2.06.94-2.06 2.06-.94-2.06-.94-.94-2.06-.94 2.06-2.06.94z\"/><path d=\"M17.41 7.96l-1.37-1.37c-.4-.4-.92-.59-1.43-.59-.52 0-1.04.2-1.43.59L10.3 9.45l-7.72 7.72c-.78.78-.78 2.05 0 2.83L4 21.41c.39.39.9.59 1.41.59.51 0 1.02-.2 1.41-.59l7.78-7.78 2.81-2.81c.8-.78.8-2.07 0-2.86zM5.41 20L4 18.59l7.72-7.72 1.47 1.35L5.41 20z\"/>\n",
              "  </svg>\n",
              "      </button>\n",
              "      \n",
              "  <style>\n",
              "    .colab-df-container {\n",
              "      display:flex;\n",
              "      flex-wrap:wrap;\n",
              "      gap: 12px;\n",
              "    }\n",
              "\n",
              "    .colab-df-convert {\n",
              "      background-color: #E8F0FE;\n",
              "      border: none;\n",
              "      border-radius: 50%;\n",
              "      cursor: pointer;\n",
              "      display: none;\n",
              "      fill: #1967D2;\n",
              "      height: 32px;\n",
              "      padding: 0 0 0 0;\n",
              "      width: 32px;\n",
              "    }\n",
              "\n",
              "    .colab-df-convert:hover {\n",
              "      background-color: #E2EBFA;\n",
              "      box-shadow: 0px 1px 2px rgba(60, 64, 67, 0.3), 0px 1px 3px 1px rgba(60, 64, 67, 0.15);\n",
              "      fill: #174EA6;\n",
              "    }\n",
              "\n",
              "    [theme=dark] .colab-df-convert {\n",
              "      background-color: #3B4455;\n",
              "      fill: #D2E3FC;\n",
              "    }\n",
              "\n",
              "    [theme=dark] .colab-df-convert:hover {\n",
              "      background-color: #434B5C;\n",
              "      box-shadow: 0px 1px 3px 1px rgba(0, 0, 0, 0.15);\n",
              "      filter: drop-shadow(0px 1px 2px rgba(0, 0, 0, 0.3));\n",
              "      fill: #FFFFFF;\n",
              "    }\n",
              "  </style>\n",
              "\n",
              "      <script>\n",
              "        const buttonEl =\n",
              "          document.querySelector('#df-d832bd28-695d-4531-8fa3-b59b47b16c3a button.colab-df-convert');\n",
              "        buttonEl.style.display =\n",
              "          google.colab.kernel.accessAllowed ? 'block' : 'none';\n",
              "\n",
              "        async function convertToInteractive(key) {\n",
              "          const element = document.querySelector('#df-d832bd28-695d-4531-8fa3-b59b47b16c3a');\n",
              "          const dataTable =\n",
              "            await google.colab.kernel.invokeFunction('convertToInteractive',\n",
              "                                                     [key], {});\n",
              "          if (!dataTable) return;\n",
              "\n",
              "          const docLinkHtml = 'Like what you see? Visit the ' +\n",
              "            '<a target=\"_blank\" href=https://colab.research.google.com/notebooks/data_table.ipynb>data table notebook</a>'\n",
              "            + ' to learn more about interactive tables.';\n",
              "          element.innerHTML = '';\n",
              "          dataTable['output_type'] = 'display_data';\n",
              "          await google.colab.output.renderOutput(dataTable, element);\n",
              "          const docLink = document.createElement('div');\n",
              "          docLink.innerHTML = docLinkHtml;\n",
              "          element.appendChild(docLink);\n",
              "        }\n",
              "      </script>\n",
              "    </div>\n",
              "  </div>\n",
              "  "
            ]
          },
          "metadata": {},
          "execution_count": 31
        }
      ]
    },
    {
      "cell_type": "code",
      "metadata": {
        "colab": {
          "base_uri": "https://localhost:8080/"
        },
        "id": "xdjJ0wBzoWnN",
        "outputId": "f9dc0774-e60b-4542-8e1a-e772143f6a1b"
      },
      "source": [
        "TSLA.info()"
      ],
      "execution_count": null,
      "outputs": [
        {
          "output_type": "stream",
          "name": "stdout",
          "text": [
            "<class 'pandas.core.frame.DataFrame'>\n",
            "RangeIndex: 1549 entries, 0 to 1548\n",
            "Data columns (total 7 columns):\n",
            " #   Column      Non-Null Count  Dtype  \n",
            "---  ------      --------------  -----  \n",
            " 0   Date        1549 non-null   object \n",
            " 1   Open        1549 non-null   float64\n",
            " 2   High        1549 non-null   float64\n",
            " 3   Low         1549 non-null   float64\n",
            " 4   Close       1549 non-null   float64\n",
            " 5   Adj. Close  1549 non-null   float64\n",
            " 6   Volume      1549 non-null   float64\n",
            "dtypes: float64(6), object(1)\n",
            "memory usage: 84.8+ KB\n"
          ]
        }
      ]
    },
    {
      "cell_type": "code",
      "metadata": {
        "id": "-CsNqpeBoX4q"
      },
      "source": [
        "# Change Dtype of Date column\n",
        "TSLA[\"Date\"] = pd.to_datetime(TSLA[\"Date\"])"
      ],
      "execution_count": null,
      "outputs": []
    },
    {
      "cell_type": "code",
      "metadata": {
        "colab": {
          "base_uri": "https://localhost:8080/"
        },
        "id": "5JXe11gDogs1",
        "outputId": "e482dd59-4119-4ae7-c318-87b3fb9ae422"
      },
      "source": [
        "Test_Stationarity(TSLA)"
      ],
      "execution_count": null,
      "outputs": [
        {
          "output_type": "stream",
          "name": "stdout",
          "text": [
            "Results of Dickey Fuller Test\n",
            "Test Statistics: 0.399800627348111\n",
            "p-value: 0.9814874842817937\n",
            "Number of lags used: 24\n",
            "Number of observations used: 1524\n",
            "critical value (1%): -3.4346481290263013\n",
            "critical value (5%): -2.8634383565975736\n",
            "critical value (10%): -2.567780658251872\n"
          ]
        }
      ]
    },
    {
      "cell_type": "markdown",
      "metadata": {
        "id": "aM_Ue90lKXtA"
      },
      "source": [
        "The p-value > 0.05, so we cannot reject the Null hypothesis. Hence, we would need to use the “Integrated (I)” concept, denoted by value ‘d’ in time series, to make the data stationary while building the Auto ARIMA model."
      ]
    },
    {
      "cell_type": "markdown",
      "metadata": {
        "id": "JllEmx6eLnK5"
      },
      "source": [
        "Now let's take log of the 'Adj. Close' column to reduce the magnitude of the values and reduce the series rising trend."
      ]
    },
    {
      "cell_type": "code",
      "metadata": {
        "id": "EqQxW1vlLYLW",
        "colab": {
          "base_uri": "https://localhost:8080/",
          "height": 367
        },
        "outputId": "24940713-dd9a-45cb-d747-f35583fea2f8"
      },
      "source": [
        "TSLA['log Adj. Close'] = np.log(TSLA['Adj. Close'])\n",
        "TSLA_log_moving_avg = TSLA['log Adj. Close'].rolling(12).mean()\n",
        "TSLA_log_std = TSLA['log Adj. Close'].rolling(12).std()\n",
        "\n",
        "plt.figure(figsize = (10, 5))\n",
        "plt.plot(TSLA['Date'], TSLA_log_moving_avg, label = \"Rolling Mean\")\n",
        "plt.plot(TSLA['Date'], TSLA_log_std, label = \"Rolling Std\")\n",
        "plt.xlabel('Time')\n",
        "plt.ylabel('log Adj. Close')\n",
        "plt.legend(loc = 'best')\n",
        "plt.title(\"Rolling Mean and Standard Deviation\")"
      ],
      "execution_count": null,
      "outputs": [
        {
          "output_type": "execute_result",
          "data": {
            "text/plain": [
              "Text(0.5, 1.0, 'Rolling Mean and Standard Deviation')"
            ]
          },
          "metadata": {},
          "execution_count": 35
        },
        {
          "output_type": "display_data",
          "data": {
            "text/plain": [
              "<Figure size 720x360 with 1 Axes>"
            ],
            "image/png": "[encoded data removed]"
          },
          "metadata": {
            "needs_background": "light"
          }
        }
      ]
    },
    {
      "cell_type": "markdown",
      "metadata": {
        "id": "-a_pxvtxMPpd"
      },
      "source": [
        "###Split the data into training and test set\n",
        "    Training Period: 2015-01-02 - 2020-09-30\n",
        "\n",
        "    Testing Period:  2020-10-01 - 2021-02-26"
      ]
    },
    {
      "cell_type": "code",
      "metadata": {
        "colab": {
          "base_uri": "https://localhost:8080/",
          "height": 351
        },
        "id": "wR4ZkaR_olHJ",
        "outputId": "397b7f0d-6a6d-4847-9d07-4d254cd50a41"
      },
      "source": [
        "TSLA_Train_Data = TSLA[TSLA['Date'] < '2020-10-01']\n",
        "TSLA_Test_Data = TSLA[TSLA['Date'] >= '2020-10-01'].reset_index(drop = True)\n",
        "\n",
        "plt.figure(figsize = (10, 5))\n",
        "plt.plot(TSLA_Train_Data['Date'], TSLA_Train_Data['log Adj. Close'], label = 'Train Data')\n",
        "plt.plot(TSLA_Test_Data['Date'], TSLA_Test_Data['log Adj. Close'], label = 'Test Data')\n",
        "plt.xlabel('Time')\n",
        "plt.ylabel('log Adj. Close')\n",
        "plt.legend(loc = 'best')"
      ],
      "execution_count": null,
      "outputs": [
        {
          "output_type": "execute_result",
          "data": {
            "text/plain": [
              "<matplotlib.legend.Legend at 0x7f2e669adb90>"
            ]
          },
          "metadata": {},
          "execution_count": 36
        },
        {
          "output_type": "display_data",
          "data": {
            "text/plain": [
              "<Figure size 720x360 with 1 Axes>"
            ],
            "image/png": "[encoded data removed]"
          },
          "metadata": {
            "needs_background": "light"
          }
        }
      ]
    },
    {
      "cell_type": "markdown",
      "metadata": {
        "id": "wChwSDH-ReXi"
      },
      "source": [
        "###Modeling"
      ]
    },
    {
      "cell_type": "code",
      "metadata": {
        "colab": {
          "base_uri": "https://localhost:8080/"
        },
        "id": "1RapLyyepXKT",
        "outputId": "97a55658-2358-43ac-d05d-984a6e283ee7"
      },
      "source": [
        "TSLA_Auto_ARIMA_Model = auto_arima(TSLA_Train_Data['log Adj. Close'], seasonal = False,\n",
        "                                   error_action = 'ignore', suppress_warnings = True)\n",
        "print(TSLA_Auto_ARIMA_Model.summary())"
      ],
      "execution_count": null,
      "outputs": [
        {
          "output_type": "stream",
          "name": "stdout",
          "text": [
            "                               SARIMAX Results                                \n",
            "==============================================================================\n",
            "Dep. Variable:                      y   No. Observations:                 1447\n",
            "Model:               SARIMAX(5, 2, 2)   Log Likelihood                2803.027\n",
            "Date:                Wed, 23 Mar 2022   AIC                          -5588.054\n",
            "Time:                        23:53:21   BIC                          -5540.572\n",
            "Sample:                             0   HQIC                         -5570.332\n",
            "                               - 1447                                         \n",
            "Covariance Type:                  opg                                         \n",
            "==============================================================================\n",
            "                 coef    std err          z      P>|z|      [0.025      0.975]\n",
            "------------------------------------------------------------------------------\n",
            "intercept    5.57e-06   3.99e-05      0.140      0.889   -7.26e-05    8.38e-05\n",
            "ar.L1         -0.6953      3.960     -0.176      0.861      -8.456       7.065\n",
            "ar.L2          0.0466      0.104      0.447      0.655      -0.158       0.251\n",
            "ar.L3          0.0747      0.114      0.656      0.512      -0.149       0.298\n",
            "ar.L4          0.0084      0.218      0.039      0.969      -0.420       0.437\n",
            "ar.L5         -0.0206      0.136     -0.152      0.879      -0.286       0.245\n",
            "ma.L1         -0.2552      3.961     -0.064      0.949      -8.018       7.508\n",
            "ma.L2         -0.7047      3.867     -0.182      0.855      -8.284       6.874\n",
            "sigma2         0.0012   2.36e-05     50.372      0.000       0.001       0.001\n",
            "===================================================================================\n",
            "Ljung-Box (L1) (Q):                   1.43   Jarque-Bera (JB):              2871.70\n",
            "Prob(Q):                              0.23   Prob(JB):                         0.00\n",
            "Heteroskedasticity (H):               3.40   Skew:                            -0.31\n",
            "Prob(H) (two-sided):                  0.00   Kurtosis:                         9.88\n",
            "===================================================================================\n",
            "\n",
            "Warnings:\n",
            "[1] Covariance matrix calculated using the outer product of gradients (complex-step).\n"
          ]
        }
      ]
    },
    {
      "cell_type": "code",
      "metadata": {
        "colab": {
          "base_uri": "https://localhost:8080/"
        },
        "id": "qfLnB9BCp3qc",
        "outputId": "9be2943b-2318-42f8-8dac-3793aec6cd42"
      },
      "source": [
        "TSLA_ARIMA_Model = ARIMA(TSLA_Train_Data['log Adj. Close'], order = (5, 2, 2))\n",
        "TSLA_ARIMA_Model_Fit = TSLA_ARIMA_Model.fit()\n",
        "print(TSLA_ARIMA_Model_Fit.summary())"
      ],
      "execution_count": null,
      "outputs": [
        {
          "output_type": "stream",
          "name": "stdout",
          "text": [
            "                               SARIMAX Results                                \n",
            "==============================================================================\n",
            "Dep. Variable:         log Adj. Close   No. Observations:                 1447\n",
            "Model:                 ARIMA(5, 2, 2)   Log Likelihood                2810.935\n",
            "Date:                Wed, 23 Mar 2022   AIC                          -5605.870\n",
            "Time:                        23:53:23   BIC                          -5563.663\n",
            "Sample:                             0   HQIC                         -5590.117\n",
            "                               - 1447                                         \n",
            "Covariance Type:                  opg                                         \n",
            "==============================================================================\n",
            "                 coef    std err          z      P>|z|      [0.025      0.975]\n",
            "------------------------------------------------------------------------------\n",
            "ar.L1         -0.8508      0.438     -1.942      0.052      -1.710       0.008\n",
            "ar.L2          0.0491      0.022      2.238      0.025       0.006       0.092\n",
            "ar.L3          0.0709      0.027      2.636      0.008       0.018       0.124\n",
            "ar.L4         -0.0112      0.033     -0.339      0.734      -0.076       0.053\n",
            "ar.L5         -0.0425      0.023     -1.871      0.061      -0.087       0.002\n",
            "ma.L1         -0.1360      0.436     -0.312      0.755      -0.990       0.718\n",
            "ma.L2         -0.8556      0.434     -1.970      0.049      -1.707      -0.004\n",
            "sigma2         0.0012   2.37e-05     50.324      0.000       0.001       0.001\n",
            "===================================================================================\n",
            "Ljung-Box (L1) (Q):                   0.07   Jarque-Bera (JB):              2706.96\n",
            "Prob(Q):                              0.80   Prob(JB):                         0.00\n",
            "Heteroskedasticity (H):               3.42   Skew:                            -0.29\n",
            "Prob(H) (two-sided):                  0.00   Kurtosis:                         9.68\n",
            "===================================================================================\n",
            "\n",
            "Warnings:\n",
            "[1] Covariance matrix calculated using the outer product of gradients (complex-step).\n"
          ]
        }
      ]
    },
    {
      "cell_type": "markdown",
      "metadata": {
        "id": "YVsGGJkeM-A9"
      },
      "source": [
        "###Predicting the closing stock price of Tesla"
      ]
    },
    {
      "cell_type": "code",
      "metadata": {
        "colab": {
          "base_uri": "https://localhost:8080/",
          "height": 351
        },
        "id": "DFySYonSrhQb",
        "outputId": "9fbe5843-0cf9-4c76-87ba-62c427f5094e"
      },
      "source": [
        "TSLA_output = TSLA_ARIMA_Model_Fit.forecast(102, alpha=0.05)\n",
        "TSLA_predictions = np.exp(TSLA_output)\n",
        "plt.figure(figsize=(10, 5))\n",
        "plt.plot(TSLA_Train_Data['Date'], TSLA_Train_Data['Adj. Close'], label = 'Training')\n",
        "plt.plot(TSLA_Test_Data['Date'], TSLA_Test_Data['Adj. Close'], label = 'Testing')\n",
        "plt.plot(TSLA_Test_Data['Date'], TSLA_predictions, label = 'Predictions')\n",
        "plt.xlabel('Time')\n",
        "plt.ylabel('Closing Price')\n",
        "plt.legend()"
      ],
      "execution_count": null,
      "outputs": [
        {
          "output_type": "execute_result",
          "data": {
            "text/plain": [
              "<matplotlib.legend.Legend at 0x7f2e66877f50>"
            ]
          },
          "metadata": {},
          "execution_count": 40
        },
        {
          "output_type": "display_data",
          "data": {
            "text/plain": [
              "<Figure size 720x360 with 1 Axes>"
            ],
            "image/png": "[encoded data removed]"
          },
          "metadata": {
            "needs_background": "light"
          }
        }
      ]
    },
    {
      "cell_type": "code",
      "metadata": {
        "colab": {
          "base_uri": "https://localhost:8080/"
        },
        "id": "SX7T-8JPr1vd",
        "outputId": "87c64ae8-3cb5-4058-8d1c-c0814845e07d"
      },
      "source": [
        "rmse = math.sqrt(mean_squared_error(TSLA_Test_Data['Adj. Close'], TSLA_predictions))\n",
        "mape = np.mean(np.abs(TSLA_predictions - TSLA_Test_Data['Adj. Close'])/np.abs(TSLA_Test_Data['Adj. Close']))\n",
        "\n",
        "print(f'RMSE: {rmse}')\n",
        "print(f'MAPE: {mape}')"
      ],
      "execution_count": null,
      "outputs": [
        {
          "output_type": "stream",
          "name": "stdout",
          "text": [
            "RMSE: 99.9329822498403\n",
            "MAPE: nan\n"
          ]
        }
      ]
    },
    {
      "cell_type": "markdown",
      "metadata": {
        "id": "FvUKldXqy82G"
      },
      "source": [
        "#Google"
      ]
    },
    {
      "cell_type": "code",
      "metadata": {
        "colab": {
          "base_uri": "https://localhost:8080/",
          "height": 206
        },
        "id": "xErJ0CQ3so4e",
        "outputId": "d6e9832a-d04a-4e49-90f8-0823b105fb8e"
      },
      "source": [
        "GOOG.head()"
      ],
      "execution_count": null,
      "outputs": [
        {
          "output_type": "execute_result",
          "data": {
            "text/plain": [
              "         Date    Open    High     Low   Close  Adj. Close     Volume\n",
              "0  2015-01-02  527.56  529.82  522.67  523.37      523.37  1447563.0\n",
              "1  2015-01-05  521.83  522.89  511.66  512.46      512.46  2059840.0\n",
              "2  2015-01-06  513.59  514.76  499.68  500.59      500.59  2899940.0\n",
              "3  2015-01-07  505.61  505.86  498.28  499.73      499.73  2065054.0\n",
              "4  2015-01-08  496.63  502.10  489.66  501.30      501.30  3353582.0"
            ],
            "text/html": [
              "\n",
              "  <div id=\"df-6daa7e92-8cf6-407e-ab77-129c34c5c0e9\">\n",
              "    <div class=\"colab-df-container\">\n",
              "      <div>\n",
              "<style scoped>\n",
              "    .dataframe tbody tr th:only-of-type {\n",
              "        vertical-align: middle;\n",
              "    }\n",
              "\n",
              "    .dataframe tbody tr th {\n",
              "        vertical-align: top;\n",
              "    }\n",
              "\n",
              "    .dataframe thead th {\n",
              "        text-align: right;\n",
              "    }\n",
              "</style>\n",
              "<table border=\"1\" class=\"dataframe\">\n",
              "  <thead>\n",
              "    <tr style=\"text-align: right;\">\n",
              "      <th></th>\n",
              "      <th>Date</th>\n",
              "      <th>Open</th>\n",
              "      <th>High</th>\n",
              "      <th>Low</th>\n",
              "      <th>Close</th>\n",
              "      <th>Adj. Close</th>\n",
              "      <th>Volume</th>\n",
              "    </tr>\n",
              "  </thead>\n",
              "  <tbody>\n",
              "    <tr>\n",
              "      <th>0</th>\n",
              "      <td>2015-01-02</td>\n",
              "      <td>527.56</td>\n",
              "      <td>529.82</td>\n",
              "      <td>522.67</td>\n",
              "      <td>523.37</td>\n",
              "      <td>523.37</td>\n",
              "      <td>1447563.0</td>\n",
              "    </tr>\n",
              "    <tr>\n",
              "      <th>1</th>\n",
              "      <td>2015-01-05</td>\n",
              "      <td>521.83</td>\n",
              "      <td>522.89</td>\n",
              "      <td>511.66</td>\n",
              "      <td>512.46</td>\n",
              "      <td>512.46</td>\n",
              "      <td>2059840.0</td>\n",
              "    </tr>\n",
              "    <tr>\n",
              "      <th>2</th>\n",
              "      <td>2015-01-06</td>\n",
              "      <td>513.59</td>\n",
              "      <td>514.76</td>\n",
              "      <td>499.68</td>\n",
              "      <td>500.59</td>\n",
              "      <td>500.59</td>\n",
              "      <td>2899940.0</td>\n",
              "    </tr>\n",
              "    <tr>\n",
              "      <th>3</th>\n",
              "      <td>2015-01-07</td>\n",
              "      <td>505.61</td>\n",
              "      <td>505.86</td>\n",
              "      <td>498.28</td>\n",
              "      <td>499.73</td>\n",
              "      <td>499.73</td>\n",
              "      <td>2065054.0</td>\n",
              "    </tr>\n",
              "    <tr>\n",
              "      <th>4</th>\n",
              "      <td>2015-01-08</td>\n",
              "      <td>496.63</td>\n",
              "      <td>502.10</td>\n",
              "      <td>489.66</td>\n",
              "      <td>501.30</td>\n",
              "      <td>501.30</td>\n",
              "      <td>3353582.0</td>\n",
              "    </tr>\n",
              "  </tbody>\n",
              "</table>\n",
              "</div>\n",
              "      <button class=\"colab-df-convert\" onclick=\"convertToInteractive('df-6daa7e92-8cf6-407e-ab77-129c34c5c0e9')\"\n",
              "              title=\"Convert this dataframe to an interactive table.\"\n",
              "              style=\"display:none;\">\n",
              "        \n",
              "  <svg xmlns=\"http://www.w3.org/2000/svg\" height=\"24px\"viewBox=\"0 0 24 24\"\n",
              "       width=\"24px\">\n",
              "    <path d=\"M0 0h24v24H0V0z\" fill=\"none\"/>\n",
              "    <path d=\"M18.56 5.44l.94 2.06.94-2.06 2.06-.94-2.06-.94-.94-2.06-.94 2.06-2.06.94zm-11 1L8.5 8.5l.94-2.06 2.06-.94-2.06-.94L8.5 2.5l-.94 2.06-2.06.94zm10 10l.94 2.06.94-2.06 2.06-.94-2.06-.94-.94-2.06-.94 2.06-2.06.94z\"/><path d=\"M17.41 7.96l-1.37-1.37c-.4-.4-.92-.59-1.43-.59-.52 0-1.04.2-1.43.59L10.3 9.45l-7.72 7.72c-.78.78-.78 2.05 0 2.83L4 21.41c.39.39.9.59 1.41.59.51 0 1.02-.2 1.41-.59l7.78-7.78 2.81-2.81c.8-.78.8-2.07 0-2.86zM5.41 20L4 18.59l7.72-7.72 1.47 1.35L5.41 20z\"/>\n",
              "  </svg>\n",
              "      </button>\n",
              "      \n",
              "  <style>\n",
              "    .colab-df-container {\n",
              "      display:flex;\n",
              "      flex-wrap:wrap;\n",
              "      gap: 12px;\n",
              "    }\n",
              "\n",
              "    .colab-df-convert {\n",
              "      background-color: #E8F0FE;\n",
              "      border: none;\n",
              "      border-radius: 50%;\n",
              "      cursor: pointer;\n",
              "      display: none;\n",
              "      fill: #1967D2;\n",
              "      height: 32px;\n",
              "      padding: 0 0 0 0;\n",
              "      width: 32px;\n",
              "    }\n",
              "\n",
              "    .colab-df-convert:hover {\n",
              "      background-color: #E2EBFA;\n",
              "      box-shadow: 0px 1px 2px rgba(60, 64, 67, 0.3), 0px 1px 3px 1px rgba(60, 64, 67, 0.15);\n",
              "      fill: #174EA6;\n",
              "    }\n",
              "\n",
              "    [theme=dark] .colab-df-convert {\n",
              "      background-color: #3B4455;\n",
              "      fill: #D2E3FC;\n",
              "    }\n",
              "\n",
              "    [theme=dark] .colab-df-convert:hover {\n",
              "      background-color: #434B5C;\n",
              "      box-shadow: 0px 1px 3px 1px rgba(0, 0, 0, 0.15);\n",
              "      filter: drop-shadow(0px 1px 2px rgba(0, 0, 0, 0.3));\n",
              "      fill: #FFFFFF;\n",
              "    }\n",
              "  </style>\n",
              "\n",
              "      <script>\n",
              "        const buttonEl =\n",
              "          document.querySelector('#df-6daa7e92-8cf6-407e-ab77-129c34c5c0e9 button.colab-df-convert');\n",
              "        buttonEl.style.display =\n",
              "          google.colab.kernel.accessAllowed ? 'block' : 'none';\n",
              "\n",
              "        async function convertToInteractive(key) {\n",
              "          const element = document.querySelector('#df-6daa7e92-8cf6-407e-ab77-129c34c5c0e9');\n",
              "          const dataTable =\n",
              "            await google.colab.kernel.invokeFunction('convertToInteractive',\n",
              "                                                     [key], {});\n",
              "          if (!dataTable) return;\n",
              "\n",
              "          const docLinkHtml = 'Like what you see? Visit the ' +\n",
              "            '<a target=\"_blank\" href=https://colab.research.google.com/notebooks/data_table.ipynb>data table notebook</a>'\n",
              "            + ' to learn more about interactive tables.';\n",
              "          element.innerHTML = '';\n",
              "          dataTable['output_type'] = 'display_data';\n",
              "          await google.colab.output.renderOutput(dataTable, element);\n",
              "          const docLink = document.createElement('div');\n",
              "          docLink.innerHTML = docLinkHtml;\n",
              "          element.appendChild(docLink);\n",
              "        }\n",
              "      </script>\n",
              "    </div>\n",
              "  </div>\n",
              "  "
            ]
          },
          "metadata": {},
          "execution_count": 42
        }
      ]
    },
    {
      "cell_type": "code",
      "metadata": {
        "colab": {
          "base_uri": "https://localhost:8080/"
        },
        "id": "iVZhlkydsqJb",
        "outputId": "54eb2dff-e25a-44f4-a5ef-2a4381dac72a"
      },
      "source": [
        "GOOG.info()"
      ],
      "execution_count": null,
      "outputs": [
        {
          "output_type": "stream",
          "name": "stdout",
          "text": [
            "<class 'pandas.core.frame.DataFrame'>\n",
            "RangeIndex: 1549 entries, 0 to 1548\n",
            "Data columns (total 7 columns):\n",
            " #   Column      Non-Null Count  Dtype  \n",
            "---  ------      --------------  -----  \n",
            " 0   Date        1549 non-null   object \n",
            " 1   Open        1549 non-null   float64\n",
            " 2   High        1549 non-null   float64\n",
            " 3   Low         1549 non-null   float64\n",
            " 4   Close       1549 non-null   float64\n",
            " 5   Adj. Close  1549 non-null   float64\n",
            " 6   Volume      1549 non-null   float64\n",
            "dtypes: float64(6), object(1)\n",
            "memory usage: 84.8+ KB\n"
          ]
        }
      ]
    },
    {
      "cell_type": "code",
      "metadata": {
        "id": "8yikWnnrsr9f"
      },
      "source": [
        "# Change Dtype of Date column\n",
        "GOOG[\"Date\"] = pd.to_datetime(GOOG[\"Date\"])"
      ],
      "execution_count": null,
      "outputs": []
    },
    {
      "cell_type": "code",
      "metadata": {
        "colab": {
          "base_uri": "https://localhost:8080/"
        },
        "id": "HRMrtOvKsy42",
        "outputId": "8e8311b6-cb0f-41c7-ad0d-2af53904e9b3"
      },
      "source": [
        "Test_Stationarity(GOOG)"
      ],
      "execution_count": null,
      "outputs": [
        {
          "output_type": "stream",
          "name": "stdout",
          "text": [
            "Results of Dickey Fuller Test\n",
            "Test Statistics: 0.6722962942047419\n",
            "p-value: 0.9892684650395426\n",
            "Number of lags used: 22\n",
            "Number of observations used: 1526\n",
            "critical value (1%): -3.4346424863111396\n",
            "critical value (5%): -2.8634358661653803\n",
            "critical value (10%): -2.5677793320839823\n"
          ]
        }
      ]
    },
    {
      "cell_type": "markdown",
      "metadata": {
        "id": "HpYy3ZVxKdBH"
      },
      "source": [
        "The p-value > 0.05, so we cannot reject the Null hypothesis. Hence, we would need to use the “Integrated (I)” concept, denoted by value ‘d’ in time series, to make the data stationary while building the Auto ARIMA model."
      ]
    },
    {
      "cell_type": "markdown",
      "metadata": {
        "id": "eviopHmALqz8"
      },
      "source": [
        "Now let's take log of the 'Adj. Close' column to reduce the magnitude of the values and reduce the series rising trend."
      ]
    },
    {
      "cell_type": "code",
      "metadata": {
        "colab": {
          "base_uri": "https://localhost:8080/",
          "height": 367
        },
        "id": "RuVhHWR7s33g",
        "outputId": "e5eeab53-cc8e-4ece-d0c3-df9faf06d948"
      },
      "source": [
        "GOOG['log Adj. Close'] = np.log(GOOG['Adj. Close'])\n",
        "GOOG_log_moving_avg = GOOG['log Adj. Close'].rolling(12).mean()\n",
        "GOOG_log_std = GOOG['log Adj. Close'].rolling(12).std()\n",
        "\n",
        "plt.figure(figsize = (10, 5))\n",
        "plt.plot(GOOG['Date'], GOOG_log_moving_avg, label = \"Rolling Mean\")\n",
        "plt.plot(GOOG['Date'], GOOG_log_std, label = \"Rolling Std\")\n",
        "plt.xlabel('Time')\n",
        "plt.ylabel('log Adj. Close')\n",
        "plt.legend(loc = 'best')\n",
        "plt.title(\"Rolling Mean and Standard Deviation\")"
      ],
      "execution_count": null,
      "outputs": [
        {
          "output_type": "execute_result",
          "data": {
            "text/plain": [
              "Text(0.5, 1.0, 'Rolling Mean and Standard Deviation')"
            ]
          },
          "metadata": {},
          "execution_count": 46
        },
        {
          "output_type": "display_data",
          "data": {
            "text/plain": [
              "<Figure size 720x360 with 1 Axes>"
            ],
            "image/png": "[encoded data removed]"
          },
          "metadata": {
            "needs_background": "light"
          }
        }
      ]
    },
    {
      "cell_type": "markdown",
      "metadata": {
        "id": "E8NdBiBIMU40"
      },
      "source": [
        "###Split the data into training and test set\n",
        "    Training Period: 2015-01-02 - 2020-10-30\n",
        "\n",
        "    Testing Period:  2020-11-02 - 2021-02-26"
      ]
    },
    {
      "cell_type": "code",
      "metadata": {
        "colab": {
          "base_uri": "https://localhost:8080/",
          "height": 351
        },
        "id": "PILs-RoCtMwh",
        "outputId": "e2496c16-12ca-4151-fb64-2d249da8b269"
      },
      "source": [
        "GOOG_Train_Data = GOOG[GOOG['Date'] < '2020-11-01']\n",
        "GOOG_Test_Data = GOOG[GOOG['Date'] >= '2020-11-01'].reset_index(drop = True)\n",
        "\n",
        "plt.figure(figsize = (10, 5))\n",
        "plt.plot(GOOG_Train_Data['Date'], GOOG_Train_Data['log Adj. Close'], label = 'Train Data')\n",
        "plt.plot(GOOG_Test_Data['Date'], GOOG_Test_Data['log Adj. Close'], label = 'Test Data')\n",
        "plt.xlabel('Time')\n",
        "plt.ylabel('log Adj. Close')\n",
        "plt.legend(loc = 'best')"
      ],
      "execution_count": null,
      "outputs": [
        {
          "output_type": "execute_result",
          "data": {
            "text/plain": [
              "<matplotlib.legend.Legend at 0x7f2e66a44c90>"
            ]
          },
          "metadata": {},
          "execution_count": 47
        },
        {
          "output_type": "display_data",
          "data": {
            "text/plain": [
              "<Figure size 720x360 with 1 Axes>"
            ],
            "image/png": "[encoded data removed]"
          },
          "metadata": {
            "needs_background": "light"
          }
        }
      ]
    },
    {
      "cell_type": "markdown",
      "metadata": {
        "id": "t8Iy1lORRhN5"
      },
      "source": [
        "###Modeling"
      ]
    },
    {
      "cell_type": "code",
      "metadata": {
        "colab": {
          "base_uri": "https://localhost:8080/"
        },
        "id": "dlUNaxD8tfug",
        "outputId": "98dcf65d-ea4e-48e9-a465-709ebf1bb5fe"
      },
      "source": [
        "GOOG_Auto_ARIMA_Model = auto_arima(GOOG_Train_Data['log Adj. Close'], seasonal = False,\n",
        "                                   error_action = 'ignore', suppress_warnings = True)\n",
        "print(GOOG_Auto_ARIMA_Model.summary())"
      ],
      "execution_count": null,
      "outputs": [
        {
          "output_type": "stream",
          "name": "stdout",
          "text": [
            "                               SARIMAX Results                                \n",
            "==============================================================================\n",
            "Dep. Variable:                      y   No. Observations:                 1469\n",
            "Model:               SARIMAX(1, 1, 0)   Log Likelihood                3905.939\n",
            "Date:                Wed, 23 Mar 2022   AIC                          -7805.878\n",
            "Time:                        23:54:45   BIC                          -7790.003\n",
            "Sample:                             0   HQIC                         -7799.958\n",
            "                               - 1469                                         \n",
            "Covariance Type:                  opg                                         \n",
            "==============================================================================\n",
            "                 coef    std err          z      P>|z|      [0.025      0.975]\n",
            "------------------------------------------------------------------------------\n",
            "intercept      0.0008      0.000      1.882      0.060   -3.47e-05       0.002\n",
            "ar.L1         -0.0876      0.015     -5.798      0.000      -0.117      -0.058\n",
            "sigma2         0.0003   4.48e-06     63.886      0.000       0.000       0.000\n",
            "===================================================================================\n",
            "Ljung-Box (L1) (Q):                   0.00   Jarque-Bera (JB):              5179.36\n",
            "Prob(Q):                              1.00   Prob(JB):                         0.00\n",
            "Heteroskedasticity (H):               1.63   Skew:                             0.19\n",
            "Prob(H) (two-sided):                  0.00   Kurtosis:                        12.19\n",
            "===================================================================================\n",
            "\n",
            "Warnings:\n",
            "[1] Covariance matrix calculated using the outer product of gradients (complex-step).\n"
          ]
        }
      ]
    },
    {
      "cell_type": "code",
      "metadata": {
        "colab": {
          "base_uri": "https://localhost:8080/"
        },
        "id": "cZEjonRRtwpd",
        "outputId": "ce460ff5-5855-41d9-d97e-3b430c9d9659"
      },
      "source": [
        "GOOG_ARIMA_Model = ARIMA(GOOG_Train_Data['log Adj. Close'], order = (1, 1, 0))\n",
        "GOOG_ARIMA_Model_Fit = GOOG_ARIMA_Model.fit()\n",
        "print(GOOG_ARIMA_Model_Fit.summary())"
      ],
      "execution_count": null,
      "outputs": [
        {
          "output_type": "stream",
          "name": "stdout",
          "text": [
            "                               SARIMAX Results                                \n",
            "==============================================================================\n",
            "Dep. Variable:         log Adj. Close   No. Observations:                 1469\n",
            "Model:                 ARIMA(1, 1, 0)   Log Likelihood                3904.148\n",
            "Date:                Wed, 23 Mar 2022   AIC                          -7804.296\n",
            "Time:                        23:54:45   BIC                          -7793.712\n",
            "Sample:                             0   HQIC                         -7800.349\n",
            "                               - 1469                                         \n",
            "Covariance Type:                  opg                                         \n",
            "==============================================================================\n",
            "                 coef    std err          z      P>|z|      [0.025      0.975]\n",
            "------------------------------------------------------------------------------\n",
            "ar.L1         -0.0854      0.015     -5.640      0.000      -0.115      -0.056\n",
            "sigma2         0.0003   4.48e-06     63.960      0.000       0.000       0.000\n",
            "===================================================================================\n",
            "Ljung-Box (L1) (Q):                   0.01   Jarque-Bera (JB):              5182.97\n",
            "Prob(Q):                              0.93   Prob(JB):                         0.00\n",
            "Heteroskedasticity (H):               1.63   Skew:                             0.19\n",
            "Prob(H) (two-sided):                  0.00   Kurtosis:                        12.20\n",
            "===================================================================================\n",
            "\n",
            "Warnings:\n",
            "[1] Covariance matrix calculated using the outer product of gradients (complex-step).\n"
          ]
        }
      ]
    },
    {
      "cell_type": "markdown",
      "metadata": {
        "id": "qacgTwHNNBtt"
      },
      "source": [
        "###Predicting the closing stock price of Google"
      ]
    },
    {
      "cell_type": "code",
      "metadata": {
        "colab": {
          "base_uri": "https://localhost:8080/",
          "height": 351
        },
        "id": "V-PcSO-at-qT",
        "outputId": "e3ad68f5-972c-4e7a-aefc-1af0cc9aa989"
      },
      "source": [
        "GOOG_output = GOOG_ARIMA_Model_Fit.forecast(80, alpha=0.05)\n",
        "GOOG_predictions = np.exp(GOOG_output)\n",
        "plt.figure(figsize=(10, 5))\n",
        "plt.plot(GOOG_Train_Data['Date'], GOOG_Train_Data['Adj. Close'], label = 'Training')\n",
        "plt.plot(GOOG_Test_Data['Date'], GOOG_Test_Data['Adj. Close'], label = 'Testing')\n",
        "plt.plot(GOOG_Test_Data['Date'], GOOG_predictions, label = 'Predictions')\n",
        "plt.xlabel('Time')\n",
        "plt.ylabel('Closing Price')\n",
        "plt.legend()"
      ],
      "execution_count": null,
      "outputs": [
        {
          "output_type": "execute_result",
          "data": {
            "text/plain": [
              "<matplotlib.legend.Legend at 0x7f2e66849b10>"
            ]
          },
          "metadata": {},
          "execution_count": 50
        },
        {
          "output_type": "display_data",
          "data": {
            "text/plain": [
              "<Figure size 720x360 with 1 Axes>"
            ],
            "image/png": "[encoded data removed]"
          },
          "metadata": {
            "needs_background": "light"
          }
        }
      ]
    },
    {
      "cell_type": "code",
      "metadata": {
        "colab": {
          "base_uri": "https://localhost:8080/"
        },
        "id": "fc894ymcuJJW",
        "outputId": "9234504c-89eb-44fa-aded-09ae1d704074"
      },
      "source": [
        "rmse = math.sqrt(mean_squared_error(GOOG_Test_Data['Adj. Close'], GOOG_predictions))\n",
        "mape = np.mean(np.abs(GOOG_predictions - GOOG_Test_Data['Adj. Close'])/np.abs(GOOG_Test_Data['Adj. Close']))\n",
        "\n",
        "print(f'RMSE: {rmse}')\n",
        "print(f'MAPE: {mape}')"
      ],
      "execution_count": null,
      "outputs": [
        {
          "output_type": "stream",
          "name": "stdout",
          "text": [
            "RMSE: 265.8827661905126\n",
            "MAPE: nan\n"
          ]
        }
      ]
    },
    {
      "cell_type": "markdown",
      "metadata": {
        "id": "j_W5QhHlzCmI"
      },
      "source": [
        "#Microsoft"
      ]
    },
    {
      "cell_type": "code",
      "metadata": {
        "colab": {
          "base_uri": "https://localhost:8080/",
          "height": 206
        },
        "id": "S9u6WSEUunoE",
        "outputId": "12cef21e-006b-4f8c-daf6-74c692bf37a5"
      },
      "source": [
        "MSFT.head()"
      ],
      "execution_count": null,
      "outputs": [
        {
          "output_type": "execute_result",
          "data": {
            "text/plain": [
              "         Date   Open   High    Low  Close  Adj. Close      Volume\n",
              "0  2015-01-02  46.66  47.42  46.54  46.76       41.44  27913900.0\n",
              "1  2015-01-05  46.37  46.73  46.25  46.33       41.06  39673900.0\n",
              "2  2015-01-06  46.38  46.75  45.54  45.65       40.46  36447900.0\n",
              "3  2015-01-07  45.98  46.46  45.49  46.23       40.97  29114100.0\n",
              "4  2015-01-08  46.75  47.75  46.72  47.59       42.18  29645200.0"
            ],
            "text/html": [
              "\n",
              "  <div id=\"df-323eddb1-6fba-4a59-8de6-1332ef5cd8ba\">\n",
              "    <div class=\"colab-df-container\">\n",
              "      <div>\n",
              "<style scoped>\n",
              "    .dataframe tbody tr th:only-of-type {\n",
              "        vertical-align: middle;\n",
              "    }\n",
              "\n",
              "    .dataframe tbody tr th {\n",
              "        vertical-align: top;\n",
              "    }\n",
              "\n",
              "    .dataframe thead th {\n",
              "        text-align: right;\n",
              "    }\n",
              "</style>\n",
              "<table border=\"1\" class=\"dataframe\">\n",
              "  <thead>\n",
              "    <tr style=\"text-align: right;\">\n",
              "      <th></th>\n",
              "      <th>Date</th>\n",
              "      <th>Open</th>\n",
              "      <th>High</th>\n",
              "      <th>Low</th>\n",
              "      <th>Close</th>\n",
              "      <th>Adj. Close</th>\n",
              "      <th>Volume</th>\n",
              "    </tr>\n",
              "  </thead>\n",
              "  <tbody>\n",
              "    <tr>\n",
              "      <th>0</th>\n",
              "      <td>2015-01-02</td>\n",
              "      <td>46.66</td>\n",
              "      <td>47.42</td>\n",
              "      <td>46.54</td>\n",
              "      <td>46.76</td>\n",
              "      <td>41.44</td>\n",
              "      <td>27913900.0</td>\n",
              "    </tr>\n",
              "    <tr>\n",
              "      <th>1</th>\n",
              "      <td>2015-01-05</td>\n",
              "      <td>46.37</td>\n",
              "      <td>46.73</td>\n",
              "      <td>46.25</td>\n",
              "      <td>46.33</td>\n",
              "      <td>41.06</td>\n",
              "      <td>39673900.0</td>\n",
              "    </tr>\n",
              "    <tr>\n",
              "      <th>2</th>\n",
              "      <td>2015-01-06</td>\n",
              "      <td>46.38</td>\n",
              "      <td>46.75</td>\n",
              "      <td>45.54</td>\n",
              "      <td>45.65</td>\n",
              "      <td>40.46</td>\n",
              "      <td>36447900.0</td>\n",
              "    </tr>\n",
              "    <tr>\n",
              "      <th>3</th>\n",
              "      <td>2015-01-07</td>\n",
              "      <td>45.98</td>\n",
              "      <td>46.46</td>\n",
              "      <td>45.49</td>\n",
              "      <td>46.23</td>\n",
              "      <td>40.97</td>\n",
              "      <td>29114100.0</td>\n",
              "    </tr>\n",
              "    <tr>\n",
              "      <th>4</th>\n",
              "      <td>2015-01-08</td>\n",
              "      <td>46.75</td>\n",
              "      <td>47.75</td>\n",
              "      <td>46.72</td>\n",
              "      <td>47.59</td>\n",
              "      <td>42.18</td>\n",
              "      <td>29645200.0</td>\n",
              "    </tr>\n",
              "  </tbody>\n",
              "</table>\n",
              "</div>\n",
              "      <button class=\"colab-df-convert\" onclick=\"convertToInteractive('df-323eddb1-6fba-4a59-8de6-1332ef5cd8ba')\"\n",
              "              title=\"Convert this dataframe to an interactive table.\"\n",
              "              style=\"display:none;\">\n",
              "        \n",
              "  <svg xmlns=\"http://www.w3.org/2000/svg\" height=\"24px\"viewBox=\"0 0 24 24\"\n",
              "       width=\"24px\">\n",
              "    <path d=\"M0 0h24v24H0V0z\" fill=\"none\"/>\n",
              "    <path d=\"M18.56 5.44l.94 2.06.94-2.06 2.06-.94-2.06-.94-.94-2.06-.94 2.06-2.06.94zm-11 1L8.5 8.5l.94-2.06 2.06-.94-2.06-.94L8.5 2.5l-.94 2.06-2.06.94zm10 10l.94 2.06.94-2.06 2.06-.94-2.06-.94-.94-2.06-.94 2.06-2.06.94z\"/><path d=\"M17.41 7.96l-1.37-1.37c-.4-.4-.92-.59-1.43-.59-.52 0-1.04.2-1.43.59L10.3 9.45l-7.72 7.72c-.78.78-.78 2.05 0 2.83L4 21.41c.39.39.9.59 1.41.59.51 0 1.02-.2 1.41-.59l7.78-7.78 2.81-2.81c.8-.78.8-2.07 0-2.86zM5.41 20L4 18.59l7.72-7.72 1.47 1.35L5.41 20z\"/>\n",
              "  </svg>\n",
              "      </button>\n",
              "      \n",
              "  <style>\n",
              "    .colab-df-container {\n",
              "      display:flex;\n",
              "      flex-wrap:wrap;\n",
              "      gap: 12px;\n",
              "    }\n",
              "\n",
              "    .colab-df-convert {\n",
              "      background-color: #E8F0FE;\n",
              "      border: none;\n",
              "      border-radius: 50%;\n",
              "      cursor: pointer;\n",
              "      display: none;\n",
              "      fill: #1967D2;\n",
              "      height: 32px;\n",
              "      padding: 0 0 0 0;\n",
              "      width: 32px;\n",
              "    }\n",
              "\n",
              "    .colab-df-convert:hover {\n",
              "      background-color: #E2EBFA;\n",
              "      box-shadow: 0px 1px 2px rgba(60, 64, 67, 0.3), 0px 1px 3px 1px rgba(60, 64, 67, 0.15);\n",
              "      fill: #174EA6;\n",
              "    }\n",
              "\n",
              "    [theme=dark] .colab-df-convert {\n",
              "      background-color: #3B4455;\n",
              "      fill: #D2E3FC;\n",
              "    }\n",
              "\n",
              "    [theme=dark] .colab-df-convert:hover {\n",
              "      background-color: #434B5C;\n",
              "      box-shadow: 0px 1px 3px 1px rgba(0, 0, 0, 0.15);\n",
              "      filter: drop-shadow(0px 1px 2px rgba(0, 0, 0, 0.3));\n",
              "      fill: #FFFFFF;\n",
              "    }\n",
              "  </style>\n",
              "\n",
              "      <script>\n",
              "        const buttonEl =\n",
              "          document.querySelector('#df-323eddb1-6fba-4a59-8de6-1332ef5cd8ba button.colab-df-convert');\n",
              "        buttonEl.style.display =\n",
              "          google.colab.kernel.accessAllowed ? 'block' : 'none';\n",
              "\n",
              "        async function convertToInteractive(key) {\n",
              "          const element = document.querySelector('#df-323eddb1-6fba-4a59-8de6-1332ef5cd8ba');\n",
              "          const dataTable =\n",
              "            await google.colab.kernel.invokeFunction('convertToInteractive',\n",
              "                                                     [key], {});\n",
              "          if (!dataTable) return;\n",
              "\n",
              "          const docLinkHtml = 'Like what you see? Visit the ' +\n",
              "            '<a target=\"_blank\" href=https://colab.research.google.com/notebooks/data_table.ipynb>data table notebook</a>'\n",
              "            + ' to learn more about interactive tables.';\n",
              "          element.innerHTML = '';\n",
              "          dataTable['output_type'] = 'display_data';\n",
              "          await google.colab.output.renderOutput(dataTable, element);\n",
              "          const docLink = document.createElement('div');\n",
              "          docLink.innerHTML = docLinkHtml;\n",
              "          element.appendChild(docLink);\n",
              "        }\n",
              "      </script>\n",
              "    </div>\n",
              "  </div>\n",
              "  "
            ]
          },
          "metadata": {},
          "execution_count": 52
        }
      ]
    },
    {
      "cell_type": "code",
      "metadata": {
        "colab": {
          "base_uri": "https://localhost:8080/"
        },
        "id": "eRKz1iCtupHM",
        "outputId": "21fa0600-ac49-4c60-958d-dc6bc1bc1d12"
      },
      "source": [
        "MSFT.info()"
      ],
      "execution_count": null,
      "outputs": [
        {
          "output_type": "stream",
          "name": "stdout",
          "text": [
            "<class 'pandas.core.frame.DataFrame'>\n",
            "RangeIndex: 1549 entries, 0 to 1548\n",
            "Data columns (total 7 columns):\n",
            " #   Column      Non-Null Count  Dtype  \n",
            "---  ------      --------------  -----  \n",
            " 0   Date        1549 non-null   object \n",
            " 1   Open        1549 non-null   float64\n",
            " 2   High        1549 non-null   float64\n",
            " 3   Low         1549 non-null   float64\n",
            " 4   Close       1549 non-null   float64\n",
            " 5   Adj. Close  1549 non-null   float64\n",
            " 6   Volume      1549 non-null   float64\n",
            "dtypes: float64(6), object(1)\n",
            "memory usage: 84.8+ KB\n"
          ]
        }
      ]
    },
    {
      "cell_type": "code",
      "metadata": {
        "id": "kD4cy5Laurga"
      },
      "source": [
        "# Change Dtype of Date column\n",
        "MSFT[\"Date\"] = pd.to_datetime(MSFT[\"Date\"])"
      ],
      "execution_count": null,
      "outputs": []
    },
    {
      "cell_type": "code",
      "metadata": {
        "colab": {
          "base_uri": "https://localhost:8080/"
        },
        "id": "V6VHqbXkuypI",
        "outputId": "c158563e-e1d2-44f4-b187-a4be97ede757"
      },
      "source": [
        "Test_Stationarity(MSFT)"
      ],
      "execution_count": null,
      "outputs": [
        {
          "output_type": "stream",
          "name": "stdout",
          "text": [
            "Results of Dickey Fuller Test\n",
            "Test Statistics: 2.1271168914605796\n",
            "p-value: 0.9988169756931882\n",
            "Number of lags used: 24\n",
            "Number of observations used: 1524\n",
            "critical value (1%): -3.4346481290263013\n",
            "critical value (5%): -2.8634383565975736\n",
            "critical value (10%): -2.567780658251872\n"
          ]
        }
      ]
    },
    {
      "cell_type": "markdown",
      "metadata": {
        "id": "dhhaesjtKf2B"
      },
      "source": [
        "The p-value > 0.05, so we cannot reject the Null hypothesis. Hence, we would need to use the “Integrated (I)” concept, denoted by value ‘d’ in time series, to make the data stationary while building the Auto ARIMA model."
      ]
    },
    {
      "cell_type": "markdown",
      "metadata": {
        "id": "F-7f4tw3Luoc"
      },
      "source": [
        "Now let's take log of the 'Adj. Close' column to reduce the magnitude of the values and reduce the series rising trend."
      ]
    },
    {
      "cell_type": "code",
      "metadata": {
        "colab": {
          "base_uri": "https://localhost:8080/",
          "height": 367
        },
        "id": "PDUMAlDvu3xG",
        "outputId": "85a8e11f-ed94-49c0-846a-27e3e8e4f5d6"
      },
      "source": [
        "MSFT['log Adj. Close'] = np.log(MSFT['Adj. Close'])\n",
        "MSFT_log_moving_avg = MSFT['log Adj. Close'].rolling(12).mean()\n",
        "MSFT_log_std = MSFT['log Adj. Close'].rolling(12).std()\n",
        "\n",
        "plt.figure(figsize = (10, 5))\n",
        "plt.plot(MSFT['Date'], MSFT_log_moving_avg, label = \"Rolling Mean\")\n",
        "plt.plot(MSFT['Date'], MSFT_log_std, label = \"Rolling Std\")\n",
        "plt.xlabel('Time')\n",
        "plt.ylabel('log Adj. Close')\n",
        "plt.legend(loc = 'best')\n",
        "plt.title(\"Rolling Mean and Standard Deviation\")"
      ],
      "execution_count": null,
      "outputs": [
        {
          "output_type": "execute_result",
          "data": {
            "text/plain": [
              "Text(0.5, 1.0, 'Rolling Mean and Standard Deviation')"
            ]
          },
          "metadata": {},
          "execution_count": 56
        },
        {
          "output_type": "display_data",
          "data": {
            "text/plain": [
              "<Figure size 720x360 with 1 Axes>"
            ],
            "image/png": "[encoded data removed]"
          },
          "metadata": {
            "needs_background": "light"
          }
        }
      ]
    },
    {
      "cell_type": "markdown",
      "metadata": {
        "id": "isAR11JHMYWV"
      },
      "source": [
        "###Split the data into training and test set\n",
        "    Training Period: 2015-01-02 - 2020-09-30\n",
        "\n",
        "    Testing Period:  2020-10-01 - 2021-02-26"
      ]
    },
    {
      "cell_type": "code",
      "metadata": {
        "colab": {
          "base_uri": "https://localhost:8080/",
          "height": 351
        },
        "id": "vuyO02PHvLdl",
        "outputId": "f49f3ae0-fef4-43cd-ca5c-236e19e74ae2"
      },
      "source": [
        "MSFT_Train_Data = MSFT[MSFT['Date'] < '2020-10-01']\n",
        "MSFT_Test_Data = MSFT[MSFT['Date'] >= '2020-10-01'].reset_index(drop = True)\n",
        "\n",
        "plt.figure(figsize = (10, 5))\n",
        "plt.plot(MSFT_Train_Data['Date'], MSFT_Train_Data['log Adj. Close'], label = 'Train Data')\n",
        "plt.plot(MSFT_Test_Data['Date'], MSFT_Test_Data['log Adj. Close'], label = 'Test Data')\n",
        "plt.xlabel('Time')\n",
        "plt.ylabel('log Adj. Close')\n",
        "plt.legend(loc = 'best')"
      ],
      "execution_count": null,
      "outputs": [
        {
          "output_type": "execute_result",
          "data": {
            "text/plain": [
              "<matplotlib.legend.Legend at 0x7f2e6671e590>"
            ]
          },
          "metadata": {},
          "execution_count": 57
        },
        {
          "output_type": "display_data",
          "data": {
            "text/plain": [
              "<Figure size 720x360 with 1 Axes>"
            ],
            "image/png": "[encoded data removed]"
          },
          "metadata": {
            "needs_background": "light"
          }
        }
      ]
    },
    {
      "cell_type": "markdown",
      "metadata": {
        "id": "psRZu2CDRlP3"
      },
      "source": [
        "###Modeling"
      ]
    },
    {
      "cell_type": "code",
      "metadata": {
        "colab": {
          "base_uri": "https://localhost:8080/"
        },
        "id": "gg7RggbCvcPN",
        "outputId": "f27bfbbe-c820-417b-fa17-25acd4890747"
      },
      "source": [
        "MSFT_Auto_ARIMA_Model = auto_arima(MSFT_Train_Data['log Adj. Close'], seasonal = False,\n",
        "                                   error_action = 'ignore', suppress_warnings = True)\n",
        "print(MSFT_Auto_ARIMA_Model.summary())"
      ],
      "execution_count": null,
      "outputs": [
        {
          "output_type": "stream",
          "name": "stdout",
          "text": [
            "                               SARIMAX Results                                \n",
            "==============================================================================\n",
            "Dep. Variable:                      y   No. Observations:                 1447\n",
            "Model:               SARIMAX(1, 1, 0)   Log Likelihood                3828.056\n",
            "Date:                Wed, 23 Mar 2022   AIC                          -7650.112\n",
            "Time:                        23:54:50   BIC                          -7634.282\n",
            "Sample:                             0   HQIC                         -7644.204\n",
            "                               - 1447                                         \n",
            "Covariance Type:                  opg                                         \n",
            "==============================================================================\n",
            "                 coef    std err          z      P>|z|      [0.025      0.975]\n",
            "------------------------------------------------------------------------------\n",
            "intercept      0.0014      0.000      2.995      0.003       0.000       0.002\n",
            "ar.L1         -0.2169      0.012    -18.786      0.000      -0.239      -0.194\n",
            "sigma2         0.0003   5.01e-06     58.650      0.000       0.000       0.000\n",
            "===================================================================================\n",
            "Ljung-Box (L1) (Q):                   0.01   Jarque-Bera (JB):              4743.33\n",
            "Prob(Q):                              0.93   Prob(JB):                         0.00\n",
            "Heteroskedasticity (H):               1.58   Skew:                            -0.35\n",
            "Prob(H) (two-sided):                  0.00   Kurtosis:                        11.85\n",
            "===================================================================================\n",
            "\n",
            "Warnings:\n",
            "[1] Covariance matrix calculated using the outer product of gradients (complex-step).\n"
          ]
        }
      ]
    },
    {
      "cell_type": "code",
      "metadata": {
        "colab": {
          "base_uri": "https://localhost:8080/"
        },
        "id": "BPLIuK-CvqJy",
        "outputId": "d0bfb320-83e6-48d2-fd4a-53f4187e8275"
      },
      "source": [
        "MSFT_ARIMA_Model = ARIMA(MSFT_Train_Data['log Adj. Close'], order = (1, 1, 0))\n",
        "MSFT_ARIMA_Model_Fit = MSFT_ARIMA_Model.fit()\n",
        "print(MSFT_ARIMA_Model_Fit.summary())"
      ],
      "execution_count": null,
      "outputs": [
        {
          "output_type": "stream",
          "name": "stdout",
          "text": [
            "                               SARIMAX Results                                \n",
            "==============================================================================\n",
            "Dep. Variable:         log Adj. Close   No. Observations:                 1447\n",
            "Model:                 ARIMA(1, 1, 0)   Log Likelihood                3823.523\n",
            "Date:                Wed, 23 Mar 2022   AIC                          -7643.046\n",
            "Time:                        23:54:50   BIC                          -7632.493\n",
            "Sample:                             0   HQIC                         -7639.107\n",
            "                               - 1447                                         \n",
            "Covariance Type:                  opg                                         \n",
            "==============================================================================\n",
            "                 coef    std err          z      P>|z|      [0.025      0.975]\n",
            "------------------------------------------------------------------------------\n",
            "ar.L1         -0.2120      0.012    -18.278      0.000      -0.235      -0.189\n",
            "sigma2         0.0003   5.06e-06     58.372      0.000       0.000       0.000\n",
            "===================================================================================\n",
            "Ljung-Box (L1) (Q):                   0.07   Jarque-Bera (JB):              4797.53\n",
            "Prob(Q):                              0.79   Prob(JB):                         0.00\n",
            "Heteroskedasticity (H):               1.60   Skew:                            -0.34\n",
            "Prob(H) (two-sided):                  0.00   Kurtosis:                        11.90\n",
            "===================================================================================\n",
            "\n",
            "Warnings:\n",
            "[1] Covariance matrix calculated using the outer product of gradients (complex-step).\n"
          ]
        }
      ]
    },
    {
      "cell_type": "markdown",
      "metadata": {
        "id": "K_45tUmFNFWt"
      },
      "source": [
        "###Predicting the closing stock price of Microsoft"
      ]
    },
    {
      "cell_type": "code",
      "metadata": {
        "colab": {
          "base_uri": "https://localhost:8080/",
          "height": 351
        },
        "id": "sAKpYMxXvybd",
        "outputId": "1deb156e-9e17-439b-e2cc-617f7d09336f"
      },
      "source": [
        "MSFT_output = MSFT_ARIMA_Model_Fit.forecast(102, alpha=0.05)\n",
        "MSFT_predictions = np.exp(MSFT_output)\n",
        "plt.figure(figsize=(10, 5))\n",
        "plt.plot(MSFT_Train_Data['Date'], MSFT_Train_Data['Adj. Close'], label = 'Training')\n",
        "plt.plot(MSFT_Test_Data['Date'], MSFT_Test_Data['Adj. Close'], label = 'Testing')\n",
        "plt.plot(MSFT_Test_Data['Date'], MSFT_predictions, label = 'Predictions')\n",
        "plt.xlabel('Time')\n",
        "plt.ylabel('Closing Price')\n",
        "plt.legend()"
      ],
      "execution_count": null,
      "outputs": [
        {
          "output_type": "execute_result",
          "data": {
            "text/plain": [
              "<matplotlib.legend.Legend at 0x7f2e6666fe50>"
            ]
          },
          "metadata": {},
          "execution_count": 61
        },
        {
          "output_type": "display_data",
          "data": {
            "text/plain": [
              "<Figure size 720x360 with 1 Axes>"
            ],
            "image/png": "[encoded data removed]"
          },
          "metadata": {
            "needs_background": "light"
          }
        }
      ]
    },
    {
      "cell_type": "code",
      "metadata": {
        "colab": {
          "base_uri": "https://localhost:8080/"
        },
        "id": "9b1MDWjNv-Aj",
        "outputId": "6bea8888-7097-482d-c5ea-7cd7c3c83914"
      },
      "source": [
        "rmse = math.sqrt(mean_squared_error(MSFT_Test_Data['Adj. Close'], MSFT_predictions))\n",
        "mape = np.mean(np.abs(MSFT_predictions - MSFT_Test_Data['Adj. Close'])/np.abs(MSFT_Test_Data['Adj. Close']))\n",
        "\n",
        "print(f'RMSE: {rmse}')\n",
        "print(f'MAPE: {mape}')"
      ],
      "execution_count": null,
      "outputs": [
        {
          "output_type": "stream",
          "name": "stdout",
          "text": [
            "RMSE: 16.195215291646587\n",
            "MAPE: nan\n"
          ]
        }
      ]
    },
    {
      "cell_type": "markdown",
      "metadata": {
        "id": "b2PZvGA2zLPq"
      },
      "source": [
        "#Amazon"
      ]
    },
    {
      "cell_type": "code",
      "metadata": {
        "colab": {
          "base_uri": "https://localhost:8080/",
          "height": 206
        },
        "id": "YFUiwuB8wQcT",
        "outputId": "a083a8ba-0367-4847-98f4-6060b87dd01b"
      },
      "source": [
        "AMZN.head()"
      ],
      "execution_count": null,
      "outputs": [
        {
          "output_type": "execute_result",
          "data": {
            "text/plain": [
              "         Date    Open    High     Low   Close  Adj. Close     Volume\n",
              "0  2015-01-02  312.58  314.75  306.96  308.52      308.52  2783200.0\n",
              "1  2015-01-05  307.01  308.38  300.85  302.19      302.19  2774200.0\n",
              "2  2015-01-06  302.24  303.00  292.38  295.29      295.29  3519000.0\n",
              "3  2015-01-07  297.50  301.28  295.33  298.42      298.42  2640300.0\n",
              "4  2015-01-08  300.32  303.14  296.11  300.46      300.46  3088400.0"
            ],
            "text/html": [
              "\n",
              "  <div id=\"df-c3816a17-3d62-40e8-a9b0-c5f99ebb4a4c\">\n",
              "    <div class=\"colab-df-container\">\n",
              "      <div>\n",
              "<style scoped>\n",
              "    .dataframe tbody tr th:only-of-type {\n",
              "        vertical-align: middle;\n",
              "    }\n",
              "\n",
              "    .dataframe tbody tr th {\n",
              "        vertical-align: top;\n",
              "    }\n",
              "\n",
              "    .dataframe thead th {\n",
              "        text-align: right;\n",
              "    }\n",
              "</style>\n",
              "<table border=\"1\" class=\"dataframe\">\n",
              "  <thead>\n",
              "    <tr style=\"text-align: right;\">\n",
              "      <th></th>\n",
              "      <th>Date</th>\n",
              "      <th>Open</th>\n",
              "      <th>High</th>\n",
              "      <th>Low</th>\n",
              "      <th>Close</th>\n",
              "      <th>Adj. Close</th>\n",
              "      <th>Volume</th>\n",
              "    </tr>\n",
              "  </thead>\n",
              "  <tbody>\n",
              "    <tr>\n",
              "      <th>0</th>\n",
              "      <td>2015-01-02</td>\n",
              "      <td>312.58</td>\n",
              "      <td>314.75</td>\n",
              "      <td>306.96</td>\n",
              "      <td>308.52</td>\n",
              "      <td>308.52</td>\n",
              "      <td>2783200.0</td>\n",
              "    </tr>\n",
              "    <tr>\n",
              "      <th>1</th>\n",
              "      <td>2015-01-05</td>\n",
              "      <td>307.01</td>\n",
              "      <td>308.38</td>\n",
              "      <td>300.85</td>\n",
              "      <td>302.19</td>\n",
              "      <td>302.19</td>\n",
              "      <td>2774200.0</td>\n",
              "    </tr>\n",
              "    <tr>\n",
              "      <th>2</th>\n",
              "      <td>2015-01-06</td>\n",
              "      <td>302.24</td>\n",
              "      <td>303.00</td>\n",
              "      <td>292.38</td>\n",
              "      <td>295.29</td>\n",
              "      <td>295.29</td>\n",
              "      <td>3519000.0</td>\n",
              "    </tr>\n",
              "    <tr>\n",
              "      <th>3</th>\n",
              "      <td>2015-01-07</td>\n",
              "      <td>297.50</td>\n",
              "      <td>301.28</td>\n",
              "      <td>295.33</td>\n",
              "      <td>298.42</td>\n",
              "      <td>298.42</td>\n",
              "      <td>2640300.0</td>\n",
              "    </tr>\n",
              "    <tr>\n",
              "      <th>4</th>\n",
              "      <td>2015-01-08</td>\n",
              "      <td>300.32</td>\n",
              "      <td>303.14</td>\n",
              "      <td>296.11</td>\n",
              "      <td>300.46</td>\n",
              "      <td>300.46</td>\n",
              "      <td>3088400.0</td>\n",
              "    </tr>\n",
              "  </tbody>\n",
              "</table>\n",
              "</div>\n",
              "      <button class=\"colab-df-convert\" onclick=\"convertToInteractive('df-c3816a17-3d62-40e8-a9b0-c5f99ebb4a4c')\"\n",
              "              title=\"Convert this dataframe to an interactive table.\"\n",
              "              style=\"display:none;\">\n",
              "        \n",
              "  <svg xmlns=\"http://www.w3.org/2000/svg\" height=\"24px\"viewBox=\"0 0 24 24\"\n",
              "       width=\"24px\">\n",
              "    <path d=\"M0 0h24v24H0V0z\" fill=\"none\"/>\n",
              "    <path d=\"M18.56 5.44l.94 2.06.94-2.06 2.06-.94-2.06-.94-.94-2.06-.94 2.06-2.06.94zm-11 1L8.5 8.5l.94-2.06 2.06-.94-2.06-.94L8.5 2.5l-.94 2.06-2.06.94zm10 10l.94 2.06.94-2.06 2.06-.94-2.06-.94-.94-2.06-.94 2.06-2.06.94z\"/><path d=\"M17.41 7.96l-1.37-1.37c-.4-.4-.92-.59-1.43-.59-.52 0-1.04.2-1.43.59L10.3 9.45l-7.72 7.72c-.78.78-.78 2.05 0 2.83L4 21.41c.39.39.9.59 1.41.59.51 0 1.02-.2 1.41-.59l7.78-7.78 2.81-2.81c.8-.78.8-2.07 0-2.86zM5.41 20L4 18.59l7.72-7.72 1.47 1.35L5.41 20z\"/>\n",
              "  </svg>\n",
              "      </button>\n",
              "      \n",
              "  <style>\n",
              "    .colab-df-container {\n",
              "      display:flex;\n",
              "      flex-wrap:wrap;\n",
              "      gap: 12px;\n",
              "    }\n",
              "\n",
              "    .colab-df-convert {\n",
              "      background-color: #E8F0FE;\n",
              "      border: none;\n",
              "      border-radius: 50%;\n",
              "      cursor: pointer;\n",
              "      display: none;\n",
              "      fill: #1967D2;\n",
              "      height: 32px;\n",
              "      padding: 0 0 0 0;\n",
              "      width: 32px;\n",
              "    }\n",
              "\n",
              "    .colab-df-convert:hover {\n",
              "      background-color: #E2EBFA;\n",
              "      box-shadow: 0px 1px 2px rgba(60, 64, 67, 0.3), 0px 1px 3px 1px rgba(60, 64, 67, 0.15);\n",
              "      fill: #174EA6;\n",
              "    }\n",
              "\n",
              "    [theme=dark] .colab-df-convert {\n",
              "      background-color: #3B4455;\n",
              "      fill: #D2E3FC;\n",
              "    }\n",
              "\n",
              "    [theme=dark] .colab-df-convert:hover {\n",
              "      background-color: #434B5C;\n",
              "      box-shadow: 0px 1px 3px 1px rgba(0, 0, 0, 0.15);\n",
              "      filter: drop-shadow(0px 1px 2px rgba(0, 0, 0, 0.3));\n",
              "      fill: #FFFFFF;\n",
              "    }\n",
              "  </style>\n",
              "\n",
              "      <script>\n",
              "        const buttonEl =\n",
              "          document.querySelector('#df-c3816a17-3d62-40e8-a9b0-c5f99ebb4a4c button.colab-df-convert');\n",
              "        buttonEl.style.display =\n",
              "          google.colab.kernel.accessAllowed ? 'block' : 'none';\n",
              "\n",
              "        async function convertToInteractive(key) {\n",
              "          const element = document.querySelector('#df-c3816a17-3d62-40e8-a9b0-c5f99ebb4a4c');\n",
              "          const dataTable =\n",
              "            await google.colab.kernel.invokeFunction('convertToInteractive',\n",
              "                                                     [key], {});\n",
              "          if (!dataTable) return;\n",
              "\n",
              "          const docLinkHtml = 'Like what you see? Visit the ' +\n",
              "            '<a target=\"_blank\" href=https://colab.research.google.com/notebooks/data_table.ipynb>data table notebook</a>'\n",
              "            + ' to learn more about interactive tables.';\n",
              "          element.innerHTML = '';\n",
              "          dataTable['output_type'] = 'display_data';\n",
              "          await google.colab.output.renderOutput(dataTable, element);\n",
              "          const docLink = document.createElement('div');\n",
              "          docLink.innerHTML = docLinkHtml;\n",
              "          element.appendChild(docLink);\n",
              "        }\n",
              "      </script>\n",
              "    </div>\n",
              "  </div>\n",
              "  "
            ]
          },
          "metadata": {},
          "execution_count": 63
        }
      ]
    },
    {
      "cell_type": "code",
      "metadata": {
        "colab": {
          "base_uri": "https://localhost:8080/"
        },
        "id": "CZw66OsHwYSX",
        "outputId": "b857db4d-5335-420d-c9b1-5121dfab2ea0"
      },
      "source": [
        "AMZN.info()"
      ],
      "execution_count": null,
      "outputs": [
        {
          "output_type": "stream",
          "name": "stdout",
          "text": [
            "<class 'pandas.core.frame.DataFrame'>\n",
            "RangeIndex: 1549 entries, 0 to 1548\n",
            "Data columns (total 7 columns):\n",
            " #   Column      Non-Null Count  Dtype  \n",
            "---  ------      --------------  -----  \n",
            " 0   Date        1549 non-null   object \n",
            " 1   Open        1549 non-null   float64\n",
            " 2   High        1549 non-null   float64\n",
            " 3   Low         1549 non-null   float64\n",
            " 4   Close       1549 non-null   float64\n",
            " 5   Adj. Close  1549 non-null   float64\n",
            " 6   Volume      1549 non-null   float64\n",
            "dtypes: float64(6), object(1)\n",
            "memory usage: 84.8+ KB\n"
          ]
        }
      ]
    },
    {
      "cell_type": "code",
      "metadata": {
        "id": "GaElbNDDwZg1"
      },
      "source": [
        "# Change Dtype of Date column\n",
        "AMZN[\"Date\"] = pd.to_datetime(AMZN[\"Date\"])"
      ],
      "execution_count": null,
      "outputs": []
    },
    {
      "cell_type": "code",
      "metadata": {
        "colab": {
          "base_uri": "https://localhost:8080/"
        },
        "id": "SmSimPQ7wfHt",
        "outputId": "c6115e2e-cfb0-4e2d-8350-5dc036aa28fb"
      },
      "source": [
        "Test_Stationarity(AMZN)"
      ],
      "execution_count": null,
      "outputs": [
        {
          "output_type": "stream",
          "name": "stdout",
          "text": [
            "Results of Dickey Fuller Test\n",
            "Test Statistics: 0.270340963440495\n",
            "p-value: 0.9759420712303005\n",
            "Number of lags used: 18\n",
            "Number of observations used: 1530\n",
            "critical value (1%): -3.434631245212095\n",
            "critical value (5%): -2.8634309048528066\n",
            "critical value (10%): -2.5677766901619035\n"
          ]
        }
      ]
    },
    {
      "cell_type": "markdown",
      "metadata": {
        "id": "2TpUEFcJKi5k"
      },
      "source": [
        "The p-value > 0.05, so we cannot reject the Null hypothesis. Hence, we would need to use the “Integrated (I)” concept, denoted by value ‘d’ in time series, to make the data stationary while building the Auto ARIMA model."
      ]
    },
    {
      "cell_type": "markdown",
      "metadata": {
        "id": "LeSztRY0LyPV"
      },
      "source": [
        "Now let's take log of the 'Adj. Close' column to reduce the magnitude of the values and reduce the series rising trend."
      ]
    },
    {
      "cell_type": "code",
      "metadata": {
        "colab": {
          "base_uri": "https://localhost:8080/",
          "height": 367
        },
        "id": "3i94PqZNwkgd",
        "outputId": "39b0b34f-2881-492c-c8bf-48df14572153"
      },
      "source": [
        "AMZN['log Adj. Close'] = np.log(AMZN['Adj. Close'])\n",
        "AMZN_log_moving_avg = AMZN['log Adj. Close'].rolling(12).mean()\n",
        "AMZN_log_std = AMZN['log Adj. Close'].rolling(12).std()\n",
        "\n",
        "plt.figure(figsize = (10, 5))\n",
        "plt.plot(AMZN['Date'], AMZN_log_moving_avg, label = \"Rolling Mean\")\n",
        "plt.plot(AMZN['Date'], AMZN_log_std, label = \"Rolling Std\")\n",
        "plt.xlabel('Time')\n",
        "plt.ylabel('log Adj. Close')\n",
        "plt.legend(loc = 'best')\n",
        "plt.title(\"Rolling Mean and Standard Deviation\")"
      ],
      "execution_count": null,
      "outputs": [
        {
          "output_type": "execute_result",
          "data": {
            "text/plain": [
              "Text(0.5, 1.0, 'Rolling Mean and Standard Deviation')"
            ]
          },
          "metadata": {},
          "execution_count": 67
        },
        {
          "output_type": "display_data",
          "data": {
            "text/plain": [
              "<Figure size 720x360 with 1 Axes>"
            ],
            "image/png": "[encoded data removed]"
          },
          "metadata": {
            "needs_background": "light"
          }
        }
      ]
    },
    {
      "cell_type": "markdown",
      "metadata": {
        "id": "0K0pUngEMbo9"
      },
      "source": [
        "###Split the data into training and test set\n",
        "    Training Period: 2015-01-02 - 2020-10-30\n",
        "\n",
        "    Testing Period:  2020-11-02 - 2021-02-26"
      ]
    },
    {
      "cell_type": "code",
      "metadata": {
        "colab": {
          "base_uri": "https://localhost:8080/",
          "height": 351
        },
        "id": "XSQ_FNdOw0z2",
        "outputId": "b086c3fd-ada3-452e-e477-03d2efeec89e"
      },
      "source": [
        "AMZN_Train_Data = AMZN[AMZN['Date'] < '2020-11-01']\n",
        "AMZN_Test_Data = AMZN[AMZN['Date'] >= '2020-11-01'].reset_index(drop = True)\n",
        "\n",
        "plt.figure(figsize = (10, 5))\n",
        "plt.plot(AMZN_Train_Data['Date'], AMZN_Train_Data['log Adj. Close'], label = 'Train Data')\n",
        "plt.plot(AMZN_Test_Data['Date'], AMZN_Test_Data['log Adj. Close'], label = 'Test Data')\n",
        "plt.xlabel('Time')\n",
        "plt.ylabel('log Adj. Close')\n",
        "plt.legend(loc = 'best')"
      ],
      "execution_count": null,
      "outputs": [
        {
          "output_type": "execute_result",
          "data": {
            "text/plain": [
              "<matplotlib.legend.Legend at 0x7f2e66513ad0>"
            ]
          },
          "metadata": {},
          "execution_count": 68
        },
        {
          "output_type": "display_data",
          "data": {
            "text/plain": [
              "<Figure size 720x360 with 1 Axes>"
            ],
            "image/png": "[encoded data removed]"
          },
          "metadata": {
            "needs_background": "light"
          }
        }
      ]
    },
    {
      "cell_type": "markdown",
      "metadata": {
        "id": "5Qm9bCGQRoxZ"
      },
      "source": [
        "###Modeling"
      ]
    },
    {
      "cell_type": "code",
      "metadata": {
        "colab": {
          "base_uri": "https://localhost:8080/"
        },
        "id": "doJ6f30axHK_",
        "outputId": "febd6cf6-9e1c-4d2a-80ae-99a799d673ba"
      },
      "source": [
        "AMZN_Auto_ARIMA_Model = auto_arima(AMZN_Train_Data['log Adj. Close'], seasonal = False,\n",
        "                                   error_action = 'ignore', suppress_warnings = True)\n",
        "print(AMZN_Auto_ARIMA_Model.summary())"
      ],
      "execution_count": null,
      "outputs": [
        {
          "output_type": "stream",
          "name": "stdout",
          "text": [
            "                               SARIMAX Results                                \n",
            "==============================================================================\n",
            "Dep. Variable:                      y   No. Observations:                 1469\n",
            "Model:               SARIMAX(0, 1, 0)   Log Likelihood                3704.612\n",
            "Date:                Wed, 23 Mar 2022   AIC                          -7405.225\n",
            "Time:                        23:55:21   BIC                          -7394.641\n",
            "Sample:                             0   HQIC                         -7401.278\n",
            "                               - 1469                                         \n",
            "Covariance Type:                  opg                                         \n",
            "==============================================================================\n",
            "                 coef    std err          z      P>|z|      [0.025      0.975]\n",
            "------------------------------------------------------------------------------\n",
            "intercept      0.0016      0.001      3.025      0.002       0.001       0.003\n",
            "sigma2         0.0004   6.92e-06     54.419      0.000       0.000       0.000\n",
            "===================================================================================\n",
            "Ljung-Box (L1) (Q):                   1.40   Jarque-Bera (JB):              2529.69\n",
            "Prob(Q):                              0.24   Prob(JB):                         0.00\n",
            "Heteroskedasticity (H):               1.14   Skew:                             0.52\n",
            "Prob(H) (two-sided):                  0.15   Kurtosis:                         9.34\n",
            "===================================================================================\n",
            "\n",
            "Warnings:\n",
            "[1] Covariance matrix calculated using the outer product of gradients (complex-step).\n"
          ]
        }
      ]
    },
    {
      "cell_type": "code",
      "metadata": {
        "colab": {
          "base_uri": "https://localhost:8080/"
        },
        "id": "orJs2sk7xY1s",
        "outputId": "c233ca74-da02-4dbb-9153-bc84f8f25939"
      },
      "source": [
        "AMZN_ARIMA_Model = ARIMA(AMZN_Train_Data['log Adj. Close'], order = (0, 1, 0))\n",
        "AMZN_ARIMA_Model_Fit = AMZN_ARIMA_Model.fit()\n",
        "print(AMZN_ARIMA_Model_Fit.summary())"
      ],
      "execution_count": null,
      "outputs": [
        {
          "output_type": "stream",
          "name": "stdout",
          "text": [
            "                               SARIMAX Results                                \n",
            "==============================================================================\n",
            "Dep. Variable:         log Adj. Close   No. Observations:                 1469\n",
            "Model:                 ARIMA(0, 1, 0)   Log Likelihood                3699.895\n",
            "Date:                Wed, 23 Mar 2022   AIC                          -7397.791\n",
            "Time:                        23:55:22   BIC                          -7392.499\n",
            "Sample:                             0   HQIC                         -7395.817\n",
            "                               - 1469                                         \n",
            "Covariance Type:                  opg                                         \n",
            "==============================================================================\n",
            "                 coef    std err          z      P>|z|      [0.025      0.975]\n",
            "------------------------------------------------------------------------------\n",
            "sigma2         0.0004    6.8e-06     55.650      0.000       0.000       0.000\n",
            "===================================================================================\n",
            "Ljung-Box (L1) (Q):                   1.40   Jarque-Bera (JB):              2529.69\n",
            "Prob(Q):                              0.24   Prob(JB):                         0.00\n",
            "Heteroskedasticity (H):               1.13   Skew:                             0.52\n",
            "Prob(H) (two-sided):                  0.17   Kurtosis:                         9.34\n",
            "===================================================================================\n",
            "\n",
            "Warnings:\n",
            "[1] Covariance matrix calculated using the outer product of gradients (complex-step).\n"
          ]
        }
      ]
    },
    {
      "cell_type": "markdown",
      "metadata": {
        "id": "MW8Hh1mENILx"
      },
      "source": [
        "###Predicting the closing stock price of Amazon"
      ]
    },
    {
      "cell_type": "code",
      "metadata": {
        "colab": {
          "base_uri": "https://localhost:8080/",
          "height": 351
        },
        "id": "8ApmgHP-xhQX",
        "outputId": "ff410ac4-c893-4e03-9a99-c82acf044891"
      },
      "source": [
        "AMZN_output = AMZN_ARIMA_Model_Fit.forecast(80, alpha=0.05)\n",
        "AMZN_predictions = np.exp(AMZN_output)\n",
        "plt.figure(figsize=(10, 5))\n",
        "plt.plot(AMZN_Train_Data['Date'], AMZN_Train_Data['Adj. Close'], label = 'Training')\n",
        "plt.plot(AMZN_Test_Data['Date'], AMZN_Test_Data['Adj. Close'], label = 'Testing')\n",
        "plt.plot(AMZN_Test_Data['Date'], AMZN_predictions, label = 'Predictions')\n",
        "plt.xlabel('Time')\n",
        "plt.ylabel('Closing Price')\n",
        "plt.legend()"
      ],
      "execution_count": null,
      "outputs": [
        {
          "output_type": "execute_result",
          "data": {
            "text/plain": [
              "<matplotlib.legend.Legend at 0x7f2e664de610>"
            ]
          },
          "metadata": {},
          "execution_count": 71
        },
        {
          "output_type": "display_data",
          "data": {
            "text/plain": [
              "<Figure size 720x360 with 1 Axes>"
            ],
            "image/png": "[encoded data removed]"
          },
          "metadata": {
            "needs_background": "light"
          }
        }
      ]
    },
    {
      "cell_type": "code",
      "metadata": {
        "colab": {
          "base_uri": "https://localhost:8080/"
        },
        "id": "86FDrtlTxuVH",
        "outputId": "f7b003c2-bc1f-4ff4-e65c-2f3bad72c040"
      },
      "source": [
        "rmse = math.sqrt(mean_squared_error(AMZN_Test_Data['Adj. Close'], AMZN_predictions))\n",
        "mape = np.mean(np.abs(AMZN_predictions - AMZN_Test_Data['Adj. Close'])/np.abs(AMZN_Test_Data['Adj. Close']))\n",
        "\n",
        "print(f'RMSE: {rmse}')\n",
        "print(f'MAPE: {mape}')"
      ],
      "execution_count": null,
      "outputs": [
        {
          "output_type": "stream",
          "name": "stdout",
          "text": [
            "RMSE: 184.39516145360327\n",
            "MAPE: nan\n"
          ]
        }
      ]
    },
    {
      "cell_type": "code",
      "source": [
        ""
      ],
      "metadata": {
        "id": "lngHEcgeMnEx"
      },
      "execution_count": null,
      "outputs": []
    }
  ]
}