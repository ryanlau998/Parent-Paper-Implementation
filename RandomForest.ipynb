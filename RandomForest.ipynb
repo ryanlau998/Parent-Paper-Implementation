{
  "nbformat": 4,
  "nbformat_minor": 0,
  "metadata": {
    "colab": {
      "name": "RandomForest.ipynb",
      "provenance": []
    },
    "kernelspec": {
      "name": "python3",
      "display_name": "Python 3"
    },
    "language_info": {
      "name": "python"
    }
  },
  "cells": [
    {
      "cell_type": "code",
      "execution_count": null,
      "metadata": {
        "colab": {
          "base_uri": "https://localhost:8080/"
        },
        "id": "ExwtxD3qXPwC",
        "outputId": "01d5aaa2-1542-46b5-f397-efaae38110fc"
      },
      "outputs": [
        {
          "output_type": "stream",
          "name": "stdout",
          "text": [
            "Drive already mounted at /content/drive; to attempt to forcibly remount, call drive.mount(\"/content/drive\", force_remount=True).\n"
          ]
        }
      ],
      "source": [
        "from google.colab import drive\n",
        "drive.mount('/content/drive')\n",
        "\n",
        "import pandas as pd\n",
        "import numpy as np\n",
        "from numpy import arange\n",
        "import matplotlib.pyplot as plt\n",
        "import random\n",
        "import datetime as dt\n",
        "from sklearn import metrics\n",
        "from sklearn.model_selection import train_test_split\n",
        "from sklearn.ensemble import RandomForestRegressor\n",
        "from sklearn.preprocessing import StandardScaler\n",
        "from sklearn.model_selection import RandomizedSearchCV"
      ]
    },
    {
      "cell_type": "code",
      "source": [
        "AMD = pd.read_csv(\"/content/drive/MyDrive/340W/AMD.csv\")\n",
        "INTC = pd.read_csv(\"/content/drive/MyDrive/340W/INTC.csv\")\n",
        "NVDA = pd.read_csv(\"/content/drive/MyDrive/340W/NVDA.csv\")"
      ],
      "metadata": {
        "id": "pbWf6dNNYR5_"
      },
      "execution_count": null,
      "outputs": []
    },
    {
      "cell_type": "markdown",
      "source": [
        "#AMD"
      ],
      "metadata": {
        "id": "z7Yr7Q9xZZb1"
      }
    },
    {
      "cell_type": "markdown",
      "source": [
        "#Visualize the date\n"
      ],
      "metadata": {
        "id": "dK3b4nuUbgYg"
      }
    },
    {
      "cell_type": "code",
      "source": [
        "AMD.set_index(\"Date\", inplace = True)\n",
        "AMD['Adj Close'].plot()\n",
        "plt.ylabel(\"Adjusted Close Prices\")\n",
        "plt.show()"
      ],
      "metadata": {
        "colab": {
          "base_uri": "https://localhost:8080/",
          "height": 279
        },
        "id": "4x-uiWzLqfpy",
        "outputId": "074f053a-ca00-4033-82ce-25c8aabc62bc"
      },
      "execution_count": null,
      "outputs": [
        {
          "output_type": "display_data",
          "data": {
            "text/plain": [
              "<Figure size 432x288 with 1 Axes>"
            ],
            "image/png": "[encoded data removed]"
          },
          "metadata": {
            "needs_background": "light"
          }
        }
      ]
    },
    {
      "cell_type": "markdown",
      "source": [
        "#Date pre-processing\n"
      ],
      "metadata": {
        "id": "KPOvGuzGrnl3"
      }
    },
    {
      "cell_type": "markdown",
      "source": [
        " Read the file and set the date as the index"
      ],
      "metadata": {
        "id": "KyHtss6mshjw"
      }
    },
    {
      "cell_type": "code",
      "source": [
        "AMD = pd.read_csv(\"/content/drive/MyDrive/340W/AMD.csv\")\n",
        "AMD.set_index(\"Date\", inplace = True)\n",
        "AMD.dropna(inplace = True)"
      ],
      "metadata": {
        "id": "JfJFjZmYrq8j"
      },
      "execution_count": null,
      "outputs": []
    },
    {
      "cell_type": "markdown",
      "source": [
        "Feature selection"
      ],
      "metadata": {
        "id": "l7EBAl-Fsi7Q"
      }
    },
    {
      "cell_type": "code",
      "source": [
        "x = AMD.iloc[:, 0:5].values\n",
        "y = AMD.iloc[:, 4].values"
      ],
      "metadata": {
        "id": "4K5PD75xsIUw"
      },
      "execution_count": null,
      "outputs": []
    },
    {
      "cell_type": "markdown",
      "source": [
        " Divide into train and test datasets"
      ],
      "metadata": {
        "id": "VFu-dntCskOO"
      }
    },
    {
      "cell_type": "code",
      "source": [
        "x.shape\n"
      ],
      "metadata": {
        "colab": {
          "base_uri": "https://localhost:8080/"
        },
        "id": "2z3kf5D9sV-o",
        "outputId": "736757ba-8873-4c86-e147-366f9b645fd6"
      },
      "execution_count": null,
      "outputs": [
        {
          "output_type": "execute_result",
          "data": {
            "text/plain": [
              "(5585, 5)"
            ]
          },
          "metadata": {},
          "execution_count": 11
        }
      ]
    },
    {
      "cell_type": "code",
      "source": [
        "y.shape"
      ],
      "metadata": {
        "colab": {
          "base_uri": "https://localhost:8080/"
        },
        "id": "E0zwjBqesYhp",
        "outputId": "c980a5ff-e270-4e98-c879-0b6a8f83f6db"
      },
      "execution_count": null,
      "outputs": [
        {
          "output_type": "execute_result",
          "data": {
            "text/plain": [
              "(5585,)"
            ]
          },
          "metadata": {},
          "execution_count": 12
        }
      ]
    },
    {
      "cell_type": "code",
      "source": [
        "x_train, x_test, y_train, y_test = train_test_split(x, y, test_size=0.26,  random_state=0)"
      ],
      "metadata": {
        "id": "U6ZNit_QscJk"
      },
      "execution_count": null,
      "outputs": []
    },
    {
      "cell_type": "markdown",
      "source": [
        "Scaling the features\n",
        "\n"
      ],
      "metadata": {
        "id": "-ZHOINuVsrUR"
      }
    },
    {
      "cell_type": "code",
      "source": [
        "scale = StandardScaler()\n",
        "x_train = scale.fit_transform(x_train)\n",
        "x_test = scale.transform(x_test)"
      ],
      "metadata": {
        "id": "265TiegYsfAk"
      },
      "execution_count": null,
      "outputs": []
    },
    {
      "cell_type": "markdown",
      "source": [
        "Hyperparemater tuning"
      ],
      "metadata": {
        "id": "i78vHZT7s0Z0"
      }
    },
    {
      "cell_type": "code",
      "source": [
        "model = RandomForestRegressor(n_estimators=500, random_state=42, min_samples_split=2, min_samples_leaf=1, max_depth=10, bootstrap=True)\n",
        "model.fit(x_train, y_train)\n",
        "predict = model.predict(x_test)\n",
        "print(predict)\n",
        "print(predict.shape)\n"
      ],
      "metadata": {
        "colab": {
          "base_uri": "https://localhost:8080/"
        },
        "id": "e3zUiqy_tVWk",
        "outputId": "6a8b0df2-541a-4af5-96cf-81d8bf353538"
      },
      "execution_count": null,
      "outputs": [
        {
          "output_type": "stream",
          "name": "stdout",
          "text": [
            "[  8.03131819 116.61399284   3.05870591 ...  13.69531776  11.90733419\n",
            "   3.78507164]\n",
            "(1453,)\n"
          ]
        }
      ]
    },
    {
      "cell_type": "code",
      "source": [
        "grid_rf = {\n",
        "'n_estimators': [20, 50, 100, 500, 1000],  \n",
        "'max_depth': np.arange(1, 15, 1),  \n",
        "'min_samples_split': [2, 10, 9], \n",
        "'min_samples_leaf': np.arange(1, 15, 2, dtype=int),  \n",
        "'bootstrap': [True, False], \n",
        "'random_state': [1, 2, 30, 42]\n",
        "}\n",
        "rscv = RandomizedSearchCV(estimator=model, param_distributions=grid_rf, cv=3, n_jobs=-1, verbose=2, n_iter=200)\n",
        "rscv_fit = rscv.fit(x_train, y_train)\n",
        "best_parameters = rscv_fit.best_params_\n",
        "print(best_parameters)"
      ],
      "metadata": {
        "colab": {
          "base_uri": "https://localhost:8080/"
        },
        "id": "IgA_MDrTszIb",
        "outputId": "a7fad7fa-7503-411f-92f3-fd1d99190769"
      },
      "execution_count": null,
      "outputs": [
        {
          "output_type": "stream",
          "name": "stdout",
          "text": [
            "Fitting 3 folds for each of 200 candidates, totalling 600 fits\n",
            "{'random_state': 42, 'n_estimators': 100, 'min_samples_split': 2, 'min_samples_leaf': 1, 'max_depth': 10, 'bootstrap': False}\n"
          ]
        }
      ]
    },
    {
      "cell_type": "code",
      "source": [
        "predict.shape"
      ],
      "metadata": {
        "colab": {
          "base_uri": "https://localhost:8080/"
        },
        "id": "mDe2cpActpR3",
        "outputId": "6d3c537c-1ab5-4990-df28-bb1115703bac"
      },
      "execution_count": null,
      "outputs": [
        {
          "output_type": "execute_result",
          "data": {
            "text/plain": [
              "(1453,)"
            ]
          },
          "metadata": {},
          "execution_count": 22
        }
      ]
    },
    {
      "cell_type": "markdown",
      "source": [
        "statistical metrics and performance evaluation"
      ],
      "metadata": {
        "id": "6ia-knhDyHAP"
      }
    },
    {
      "cell_type": "code",
      "source": [
        "print(\"Mean Absolute Error:\", round(metrics.mean_absolute_error(y_test, predict), 4))\n",
        "print(\"Mean Squared Error:\", round(metrics.mean_squared_error(y_test, predict), 4))\n",
        "print(\"Root Mean Squared Error:\", round(np.sqrt(metrics.mean_squared_error(y_test, predict)), 4))\n",
        "print(\"(R^2) Score:\", round(metrics.r2_score(y_test, predict), 4))\n",
        "print(f'Train Score : {model.score(x_train, y_train) * 100:.2f}% and Test Score : {model.score(x_test, y_test) * 100:.2f}% using Random Tree Regressor.')\n",
        "errors = abs(predict - y_test)\n",
        "mape = 100 * (errors / y_test)\n",
        "accuracy = 100 - np.mean(mape)\n",
        "print('Accuracy:', round(accuracy, 2), '%.') "
      ],
      "metadata": {
        "colab": {
          "base_uri": "https://localhost:8080/"
        },
        "id": "x2GDuHh9yInJ",
        "outputId": "d7eb5b7d-56cd-473e-c37f-fdb0211233bb"
      },
      "execution_count": null,
      "outputs": [
        {
          "output_type": "stream",
          "name": "stdout",
          "text": [
            "Mean Absolute Error: 0.036\n",
            "Mean Squared Error: 0.048\n",
            "Root Mean Squared Error: 0.2191\n",
            "(R^2) Score: 0.9999\n",
            "Train Score : 100.00% and Test Score : 99.99% using Random Tree Regressor.\n",
            "Accuracy: 99.89 %.\n"
          ]
        }
      ]
    },
    {
      "cell_type": "markdown",
      "source": [
        "future days from predicted values and plot"
      ],
      "metadata": {
        "id": "LOMlq3ZNySZ5"
      }
    },
    {
      "cell_type": "code",
      "source": [
        "predictions = pd.DataFrame({\"Predictions\": predict}, index=pd.date_range(start=AMD.index[-1], periods=len(predict), freq=\"D\"))\n",
        "predictions.to_csv(\"Predicted-price-data.csv\")\n",
        "#colllects future days from predicted values\n",
        "oneyear_AMD = pd.DataFrame(predictions[:252])\n",
        "oneyear_AMD.to_csv(\"one-year-predictions.csv\")\n",
        "onemonth_AMD = pd.DataFrame(predictions[:21])\n",
        "onemonth_AMD.to_csv(\"one-month-predictions.csv\")\n",
        "fivedays_AMD = pd.DataFrame(predictions[:5])\n",
        "fivedays_AMD.to_csv(\"five-days-predictions.csv\")"
      ],
      "metadata": {
        "id": "Wv8XtsnyyWkg"
      },
      "execution_count": null,
      "outputs": []
    },
    {
      "cell_type": "markdown",
      "source": [
        "one-year prediction"
      ],
      "metadata": {
        "id": "BQfKMvZ0ydYO"
      }
    },
    {
      "cell_type": "code",
      "source": [
        "oneyear_AMD_pred = pd.read_csv(\"one-year-predictions.csv\")\n",
        "buy_price = min(oneyear_AMD_pred[\"Predictions\"])\n",
        "sell_price = max(oneyear_AMD_pred[\"Predictions\"])\n",
        "oneyear_buy = oneyear_AMD_pred.loc[oneyear_AMD_pred[\"Predictions\"] == buy_price]\n",
        "oneyear_sell = oneyear_AMD_pred.loc[oneyear_AMD_pred[\"Predictions\"] == sell_price]\n",
        "print(\"Buy price and date\")\n",
        "print(oneyear_buy)\n",
        "print(\"Sell price and date\")\n",
        "print(oneyear_sell)\n",
        "oneyear_AMD_pred[\"Predictions\"].plot(figsize=(10, 5), title=\"Forecast for the next 1 year\", color=\"blue\")\n",
        "plt.xlabel(\"Date\")\n",
        "plt.ylabel(\"Price\")\n",
        "plt.legend()\n",
        "plt.show()"
      ],
      "metadata": {
        "colab": {
          "base_uri": "https://localhost:8080/",
          "height": 460
        },
        "id": "w9tsoOuayfCm",
        "outputId": "7b14a05b-9b76-40fa-db0c-4a0ee4b53742"
      },
      "execution_count": null,
      "outputs": [
        {
          "output_type": "stream",
          "name": "stdout",
          "text": [
            "Buy price and date\n",
            "     Unnamed: 0  Predictions\n",
            "126  2022-07-18     1.785588\n",
            "Sell price and date\n",
            "     Unnamed: 0  Predictions\n",
            "242  2022-11-11   154.963963\n"
          ]
        },
        {
          "output_type": "display_data",
          "data": {
            "text/plain": [
              "<Figure size 720x360 with 1 Axes>"
            ],
            "image/png": "[encoded data removed]"
          },
          "metadata": {
            "needs_background": "light"
          }
        }
      ]
    },
    {
      "cell_type": "markdown",
      "source": [
        "one month prediction"
      ],
      "metadata": {
        "id": "8dNc1Kib0p59"
      }
    },
    {
      "cell_type": "code",
      "source": [
        "onemonth_AMD_pred = pd.read_csv(\"one-month-predictions.csv\")\n",
        "buy_price = min(onemonth_AMD_pred[\"Predictions\"])\n",
        "sell_price = max(onemonth_AMD_pred[\"Predictions\"])\n",
        "onemonth_buy = onemonth_AMD_pred.loc[onemonth_AMD_pred[\"Predictions\"] == buy_price]\n",
        "onemonth_sell = onemonth_AMD_pred.loc[onemonth_AMD_pred[\"Predictions\"] == sell_price]\n",
        "print(\"Buy price and date\")\n",
        "print(onemonth_buy)\n",
        "print(\"Sell price and date\")\n",
        "print(onemonth_sell)\n",
        "onemonth_AMD_pred[\"Predictions\"].plot(figsize=(10, 5), title=\"Forecast for the next 1 month\", color=\"blue\")\n",
        "plt.xlabel(\"Date\")\n",
        "plt.ylabel(\"Price\")\n",
        "plt.legend()\n",
        "plt.show()"
      ],
      "metadata": {
        "colab": {
          "base_uri": "https://localhost:8080/",
          "height": 460
        },
        "id": "-mbK8C_K0pbk",
        "outputId": "4a31825f-c09d-4fbd-8e39-e944f3ce420b"
      },
      "execution_count": null,
      "outputs": [
        {
          "output_type": "stream",
          "name": "stdout",
          "text": [
            "Buy price and date\n",
            "   Unnamed: 0  Predictions\n",
            "6  2022-03-20     2.277241\n",
            "Sell price and date\n",
            "   Unnamed: 0  Predictions\n",
            "1  2022-03-15   116.613993\n"
          ]
        },
        {
          "output_type": "display_data",
          "data": {
            "text/plain": [
              "<Figure size 720x360 with 1 Axes>"
            ],
            "image/png": "[encoded data removed]"
          },
          "metadata": {
            "needs_background": "light"
          }
        }
      ]
    },
    {
      "cell_type": "markdown",
      "source": [
        "five days prediction:"
      ],
      "metadata": {
        "id": "FmYpJYTq04ry"
      }
    },
    {
      "cell_type": "code",
      "source": [
        "fivedays_AMD_pred = pd.read_csv(\"five-days-predictions.csv\")\n",
        "buy_price = min(fivedays_AMD_pred[\"Predictions\"])\n",
        "sell_price = max(fivedays_AMD_pred[\"Predictions\"])\n",
        "fivedays_buy = fivedays_AMD_pred.loc[fivedays_AMD_pred[\"Predictions\"] == buy_price]\n",
        "fivedays_sell = fivedays_AMD_pred.loc[fivedays_AMD_pred[\"Predictions\"] == sell_price]\n",
        "print(\"Buy price and date\")\n",
        "print(fivedays_buy)\n",
        "print(\"Sell price and date\")\n",
        "print(fivedays_sell)\n",
        "fivedays_AMD_pred[\"Predictions\"].plot(figsize=(10, 5), title=\"Forecast for the next 5 days\", color=\"blue\")\n",
        "plt.xlabel(\"Date\")\n",
        "plt.ylabel(\"Price\")\n",
        "plt.legend()\n",
        "plt.show()"
      ],
      "metadata": {
        "colab": {
          "base_uri": "https://localhost:8080/",
          "height": 460
        },
        "id": "hjvfw-1a03rS",
        "outputId": "b196b154-b966-4c23-f487-8585b0da8b37"
      },
      "execution_count": null,
      "outputs": [
        {
          "output_type": "stream",
          "name": "stdout",
          "text": [
            "Buy price and date\n",
            "   Unnamed: 0  Predictions\n",
            "4  2022-03-18     2.829683\n",
            "Sell price and date\n",
            "   Unnamed: 0  Predictions\n",
            "1  2022-03-15   116.613993\n"
          ]
        },
        {
          "output_type": "display_data",
          "data": {
            "text/plain": [
              "<Figure size 720x360 with 1 Axes>"
            ],
            "image/png": "[encoded data removed]"
          },
          "metadata": {
            "needs_background": "light"
          }
        }
      ]
    },
    {
      "cell_type": "markdown",
      "source": [
        "#INTC"
      ],
      "metadata": {
        "id": "agWyIihQ1DYC"
      }
    },
    {
      "cell_type": "markdown",
      "source": [
        "import data\n",
        "\n"
      ],
      "metadata": {
        "id": "yLb66LIA1Mq1"
      }
    },
    {
      "cell_type": "code",
      "source": [
        "INTC = pd.read_csv(\"/content/drive/MyDrive/340W/INTC.csv\")\n",
        "INTC.set_index(\"Date\", inplace = True)\n",
        "INTC.dropna(inplace = True)"
      ],
      "metadata": {
        "id": "OK3EiaS51LjU"
      },
      "execution_count": null,
      "outputs": []
    },
    {
      "cell_type": "markdown",
      "source": [
        "visualize the data"
      ],
      "metadata": {
        "id": "CYjMXCbR1lkH"
      }
    },
    {
      "cell_type": "code",
      "source": [
        "INTC = pd.read_csv(\"/content/drive/MyDrive/340W/INTC.csv\")\n",
        "INTC.set_index('Date', inplace = True)\n",
        "AMD['Adj Close'].plot()\n",
        "plt.ylabel(\"Adjusted Close Prices\")\n",
        "plt.show()"
      ],
      "metadata": {
        "id": "M7TYwQ9T1lT4",
        "colab": {
          "base_uri": "https://localhost:8080/",
          "height": 265
        },
        "outputId": "34af0bc9-b55e-4039-ebe7-c57a7387bc68"
      },
      "execution_count": null,
      "outputs": [
        {
          "output_type": "display_data",
          "data": {
            "text/plain": [
              "<Figure size 432x288 with 1 Axes>"
            ],
            "image/png": "[encoded data removed]"
          },
          "metadata": {
            "needs_background": "light"
          }
        }
      ]
    },
    {
      "cell_type": "markdown",
      "source": [
        "#Date pre-processing\n"
      ],
      "metadata": {
        "id": "0NWgcI-M2ngV"
      }
    },
    {
      "cell_type": "code",
      "source": [
        "AMD = pd.read_csv(\"/content/drive/MyDrive/340W/AMD.csv\")\n",
        "AMD.set_index(\"Date\", inplace = True)\n",
        "AMD.dropna(inplace = True)"
      ],
      "metadata": {
        "id": "zgTtnNig1lWH"
      },
      "execution_count": null,
      "outputs": []
    },
    {
      "cell_type": "markdown",
      "source": [
        "feature selection"
      ],
      "metadata": {
        "id": "WKA74PMd2rpf"
      }
    },
    {
      "cell_type": "code",
      "source": [
        "x = INTC.iloc[:, 0:5].values\n",
        "y = INTC.iloc[:, 4].values"
      ],
      "metadata": {
        "id": "MUtrShcF2uHq"
      },
      "execution_count": null,
      "outputs": []
    },
    {
      "cell_type": "markdown",
      "source": [
        "devide into train and test datasets"
      ],
      "metadata": {
        "id": "k8AR6qE55O9s"
      }
    },
    {
      "cell_type": "code",
      "source": [
        "x_train, x_test, y_train, y_test = train_test_split(x, y, test_size=0.26,  random_state=0)"
      ],
      "metadata": {
        "id": "b920ZUpw2y_h"
      },
      "execution_count": null,
      "outputs": []
    },
    {
      "cell_type": "markdown",
      "source": [
        "scalling the features"
      ],
      "metadata": {
        "id": "XaCeI6Mj5Q6b"
      }
    },
    {
      "cell_type": "code",
      "source": [
        "scale = StandardScaler()\n",
        "x_train = scale.fit_transform(x_train)\n",
        "x_test = scale.transform(x_test)"
      ],
      "metadata": {
        "id": "4G9ON1bk20r1"
      },
      "execution_count": null,
      "outputs": []
    },
    {
      "cell_type": "markdown",
      "source": [
        "hyperparemater tuning"
      ],
      "metadata": {
        "id": "6foRUmbm5Tv2"
      }
    },
    {
      "cell_type": "code",
      "source": [
        "model = RandomForestRegressor(n_estimators=500, random_state=42, min_samples_split=2, min_samples_leaf=1, max_depth=10, bootstrap=True)\n",
        "model.fit(x_train, y_train)\n",
        "predict = model.predict(x_test)\n",
        "print(predict)\n",
        "print(predict.shape)"
      ],
      "metadata": {
        "colab": {
          "base_uri": "https://localhost:8080/"
        },
        "id": "vqgOjLBI265b",
        "outputId": "bc501c11-2420-4a63-dd58-79cb1a05f595"
      },
      "execution_count": null,
      "outputs": [
        {
          "output_type": "stream",
          "name": "stdout",
          "text": [
            "[11.44933287 54.39399998 27.91118251 ... 20.16606951 38.73564871\n",
            " 11.40323246]\n",
            "(1453,)\n"
          ]
        }
      ]
    },
    {
      "cell_type": "code",
      "source": [
        "grid_rf = {\n",
        "'n_estimators': [20, 50, 100, 500, 1000],  \n",
        "'max_depth': np.arange(1, 15, 1),  \n",
        "'min_samples_split': [2, 10, 9], \n",
        "'min_samples_leaf': np.arange(1, 15, 2, dtype=int),  \n",
        "'bootstrap': [True, False], \n",
        "'random_state': [1, 2, 30, 42]\n",
        "}\n",
        "rscv = RandomizedSearchCV(estimator=model, param_distributions=grid_rf, cv=3, n_jobs=-1, verbose=2, n_iter=200)\n",
        "rscv_fit = rscv.fit(x_train, y_train)\n",
        "best_parameters = rscv_fit.best_params_\n",
        "print(best_parameters)"
      ],
      "metadata": {
        "colab": {
          "base_uri": "https://localhost:8080/"
        },
        "id": "-BBpbgx-22KO",
        "outputId": "b71f20f4-40dd-45cc-9f5e-160b1d203c25"
      },
      "execution_count": null,
      "outputs": [
        {
          "output_type": "stream",
          "name": "stdout",
          "text": [
            "Fitting 3 folds for each of 200 candidates, totalling 600 fits\n",
            "{'random_state': 42, 'n_estimators': 100, 'min_samples_split': 2, 'min_samples_leaf': 1, 'max_depth': 8, 'bootstrap': True}\n"
          ]
        }
      ]
    },
    {
      "cell_type": "markdown",
      "source": [
        "apply model to predict"
      ],
      "metadata": {
        "id": "oPO2_Chw5aIB"
      }
    },
    {
      "cell_type": "code",
      "source": [
        "print(\"Mean Absolute Error:\", round(metrics.mean_absolute_error(y_test, predict), 4))\n",
        "print(\"Mean Squared Error:\", round(metrics.mean_squared_error(y_test, predict), 4))\n",
        "print(\"Root Mean Squared Error:\", round(np.sqrt(metrics.mean_squared_error(y_test, predict)), 4))\n",
        "print(\"(R^2) Score:\", round(metrics.r2_score(y_test, predict), 4))\n",
        "print(f'Train Score : {model.score(x_train, y_train) * 100:.2f}% and Test Score : {model.score(x_test, y_test) * 100:.2f}% using Random Tree Regressor.')\n",
        "errors = abs(predict - y_test)\n",
        "mape = 100 * (errors / y_test)\n",
        "accuracy = 100 - np.mean(mape)\n",
        "print('Accuracy:', round(accuracy, 2), '%.') "
      ],
      "metadata": {
        "id": "rz_BI_EX2-5b"
      },
      "execution_count": null,
      "outputs": []
    },
    {
      "cell_type": "code",
      "source": [
        "predictions = pd.DataFrame({\"Predictions\": predict}, index=pd.date_range(start=INTC.index[-1], periods=len(predict), freq=\"D\"))\n",
        "predictions.to_csv(\"Predicted-price-data.csv\")\n",
        "#colllects future days from predicted values\n",
        "oneyear_INTC = pd.DataFrame(predictions[:252])\n",
        "oneyear_INTC.to_csv(\"one-year-predictions.csv\")\n",
        "onemonth_INTC = pd.DataFrame(predictions[:21])\n",
        "onemonth_INTC.to_csv(\"one-month-predictions.csv\")\n",
        "fivedays_INTC = pd.DataFrame(predictions[:5])\n",
        "fivedays_INTC.to_csv(\"five-days-predictions.csv\")"
      ],
      "metadata": {
        "id": "jhxwF30A3DG6"
      },
      "execution_count": null,
      "outputs": []
    },
    {
      "cell_type": "markdown",
      "source": [
        "one-year prediction"
      ],
      "metadata": {
        "id": "YlDMvAbS5dQZ"
      }
    },
    {
      "cell_type": "code",
      "source": [
        "oneyear_INTC_pred = pd.read_csv(\"one-year-predictions.csv\")\n",
        "oneyear_INTC_pred.set_index(\"Date\", inplace=True)\n",
        "buy_price = min(oneyear_INTC_pred[\"Predictions\"])\n",
        "sell_price = max(oneyear_INTC_pred[\"Predictions\"])\n",
        "oneyear_buy = oneyear_INTC_pred.loc[oneyear_INTC_pred[\"Predictions\"] == buy_price]\n",
        "oneyear_sell = oneyear_INTC_pred.loc[oneyear_INTC_pred[\"Predictions\"] == sell_price]\n",
        "print(\"Buy price and date\")\n",
        "print(oneyear_buy)\n",
        "print(\"Sell price and date\")\n",
        "print(oneyear_sell)\n",
        "oneyear_INTC_pred[\"Predictions\"].plot(figsize=(10, 5), title=\"Forecast for the next 1 year\", color=\"blue\")\n",
        "plt.xlabel(\"Date\")\n",
        "plt.ylabel(\"Price\")\n",
        "plt.legend()\n",
        "plt.show()"
      ],
      "metadata": {
        "id": "MZQg4oGp3MbL"
      },
      "execution_count": null,
      "outputs": []
    },
    {
      "cell_type": "markdown",
      "source": [
        "one-month prediction"
      ],
      "metadata": {
        "id": "2BXbWJaF5e8e"
      }
    },
    {
      "cell_type": "code",
      "source": [
        "onemonth_INTC_pred = pd.read_csv(\"one-month-predictions.csv\")\n",
        "buy_price = min(onemonth_INTC_pred[\"Predictions\"])\n",
        "sell_price = max(onemonth_INTC_pred[\"Predictions\"])\n",
        "onemonth_buy = onemonth_INTC_pred.loc[onemonth_INTC_pred[\"Predictions\"] == buy_price]\n",
        "onemonth_sell = onemonth_INTC_pred.loc[onemonth_INTC_pred[\"Predictions\"] == sell_price]\n",
        "print(\"Buy price and date\")\n",
        "print(onemonth_buy)\n",
        "print(\"Sell price and date\")\n",
        "print(onemonth_sell)\n",
        "onemonth_INTC_pred[\"Predictions\"].plot(figsize=(10, 5), title=\"Forecast for the next 1 month\", color=\"blue\")\n",
        "plt.xlabel(\"Date\")\n",
        "plt.ylabel(\"Price\")\n",
        "plt.legend()\n",
        "plt.show()"
      ],
      "metadata": {
        "id": "cqctE-u53W5F"
      },
      "execution_count": null,
      "outputs": []
    },
    {
      "cell_type": "markdown",
      "source": [
        "five-day prediction"
      ],
      "metadata": {
        "id": "GYn_4sbm5gjx"
      }
    },
    {
      "cell_type": "code",
      "source": [
        "fivedays_INTC_pred = pd.read_csv(\"five-days-predictions.csv\")\n",
        "buy_price = min(fivedays_INTC_pred[\"Predictions\"])\n",
        "sell_price = max(fivedays_INTC_pred[\"Predictions\"])\n",
        "fivedays_buy = fivedays_INTC_pred.loc[fivedays_INTC_pred[\"Predictions\"] == buy_price]\n",
        "fivedays_sell = fivedays_INTC_pred.loc[fivedays_INTC_pred[\"Predictions\"] == sell_price]\n",
        "print(\"Buy price and date\")\n",
        "print(fivedays_buy)\n",
        "print(\"Sell price and date\")\n",
        "print(fivedays_sell)\n",
        "fivedays_INTC_pred[\"Predictions\"].plot(figsize=(10, 5), title=\"Forecast for the next 5 days\", color=\"blue\")\n",
        "plt.xlabel(\"Date\")\n",
        "plt.ylabel(\"Price\")\n",
        "plt.legend()\n",
        "plt.show()"
      ],
      "metadata": {
        "id": "QJf4GR8u3ex5"
      },
      "execution_count": null,
      "outputs": []
    },
    {
      "cell_type": "markdown",
      "source": [
        "#NVDA"
      ],
      "metadata": {
        "id": "xlrjcRN03w6U"
      }
    },
    {
      "cell_type": "markdown",
      "source": [
        "import data"
      ],
      "metadata": {
        "id": "ixDCZ05v32nu"
      }
    },
    {
      "cell_type": "code",
      "source": [
        "NVDA = pd.read_csv(\"/content/drive/MyDrive/340W/NVDA.csv\")\n",
        "INTC.set_index(\"Date\", inplace = True)\n",
        "INTC.dropna(inplace = True)"
      ],
      "metadata": {
        "id": "unG-Wr9v338I"
      },
      "execution_count": null,
      "outputs": []
    },
    {
      "cell_type": "markdown",
      "source": [
        "visualize data"
      ],
      "metadata": {
        "id": "X9fs0RLT5jbS"
      }
    },
    {
      "cell_type": "code",
      "source": [
        "NVDA = pd.read_csv(\"/content/drive/MyDrive/340W/NVDA.csv\")\n",
        "NVDA.set_index('Date', inplace = True)\n",
        "AMD['Adj Close'].plot()\n",
        "plt.ylabel(\"Adjusted Close Prices\")\n",
        "plt.show()"
      ],
      "metadata": {
        "id": "Z36Txpcy38Al",
        "colab": {
          "base_uri": "https://localhost:8080/",
          "height": 265
        },
        "outputId": "25336923-ebf1-4d1d-9f57-e77e5d3b68a2"
      },
      "execution_count": null,
      "outputs": [
        {
          "output_type": "display_data",
          "data": {
            "text/plain": [
              "<Figure size 432x288 with 1 Axes>"
            ],
            "image/png": "[encoded data removed]"
          },
          "metadata": {
            "needs_background": "light"
          }
        }
      ]
    },
    {
      "cell_type": "markdown",
      "source": [
        "data pre-processing"
      ],
      "metadata": {
        "id": "YMbq7zhf5m7p"
      }
    },
    {
      "cell_type": "code",
      "source": [
        "NVDA = pd.read_csv(\"/content/drive/MyDrive/340W/NVDA.csv\")\n",
        "NVDA.set_index(\"Date\", inplace = True)\n",
        "NVDA.dropna(inplace = True)"
      ],
      "metadata": {
        "id": "5FWbpKWv3-_l"
      },
      "execution_count": null,
      "outputs": []
    },
    {
      "cell_type": "code",
      "source": [
        "x = NVDA.iloc[:, 0:5].values\n",
        "y = NVDA.iloc[:, 4].values"
      ],
      "metadata": {
        "id": "h-sjs_Ms4Jg0"
      },
      "execution_count": null,
      "outputs": []
    },
    {
      "cell_type": "code",
      "source": [
        "x_train, x_test, y_train, y_test = train_test_split(x, y, test_size=0.26,  random_state=0)"
      ],
      "metadata": {
        "id": "hHuYKcOV4Vhn"
      },
      "execution_count": null,
      "outputs": []
    },
    {
      "cell_type": "code",
      "source": [
        "scale = StandardScaler()\n",
        "x_train = scale.fit_transform(x_train)\n",
        "x_test = scale.transform(x_test)"
      ],
      "metadata": {
        "id": "FCmsAt8l4Xo-"
      },
      "execution_count": null,
      "outputs": []
    },
    {
      "cell_type": "code",
      "source": [
        "model = RandomForestRegressor(n_estimators=500, random_state=42, min_samples_split=2, min_samples_leaf=1, max_depth=10, bootstrap=True)\n",
        "model.fit(x_train, y_train)\n",
        "predict = model.predict(x_test)\n",
        "print(predict)\n",
        "print(predict.shape)"
      ],
      "metadata": {
        "id": "zyaVhZWx4Zfq",
        "colab": {
          "base_uri": "https://localhost:8080/"
        },
        "outputId": "933de053-a18b-4ba9-8cfa-36c2f0425b9d"
      },
      "execution_count": null,
      "outputs": [
        {
          "output_type": "stream",
          "name": "stdout",
          "text": [
            "[  1.04194665 222.99005049   5.32724371 ...   1.07515339  54.66891477\n",
            "   2.49842843]\n",
            "(1453,)\n"
          ]
        }
      ]
    },
    {
      "cell_type": "markdown",
      "source": [
        "use model to predict"
      ],
      "metadata": {
        "id": "_GsSy2c-5rDr"
      }
    },
    {
      "cell_type": "code",
      "source": [
        "grid_rf = {\n",
        "'n_estimators': [20, 50, 100, 500, 1000],  \n",
        "'max_depth': np.arange(1, 15, 1),  \n",
        "'min_samples_split': [2, 10, 9], \n",
        "'min_samples_leaf': np.arange(1, 15, 2, dtype=int),  \n",
        "'bootstrap': [True, False], \n",
        "'random_state': [1, 2, 30, 42]\n",
        "}\n",
        "rscv = RandomizedSearchCV(estimator=model, param_distributions=grid_rf, cv=3, n_jobs=-1, verbose=2, n_iter=200)\n",
        "rscv_fit = rscv.fit(x_train, y_train)\n",
        "best_parameters = rscv_fit.best_params_\n",
        "print(best_parameters)"
      ],
      "metadata": {
        "id": "f1-D4gcf4cJt",
        "colab": {
          "base_uri": "https://localhost:8080/"
        },
        "outputId": "585c4b6c-413a-41e2-defa-2521c304c699"
      },
      "execution_count": null,
      "outputs": [
        {
          "output_type": "stream",
          "name": "stdout",
          "text": [
            "Fitting 3 folds for each of 200 candidates, totalling 600 fits\n",
            "{'random_state': 1, 'n_estimators': 50, 'min_samples_split': 2, 'min_samples_leaf': 1, 'max_depth': 10, 'bootstrap': False}\n"
          ]
        }
      ]
    },
    {
      "cell_type": "code",
      "source": [
        "print(\"Mean Absolute Error:\", round(metrics.mean_absolute_error(y_test, predict), 4))\n",
        "print(\"Mean Squared Error:\", round(metrics.mean_squared_error(y_test, predict), 4))\n",
        "print(\"Root Mean Squared Error:\", round(np.sqrt(metrics.mean_squared_error(y_test, predict)), 4))\n",
        "print(\"(R^2) Score:\", round(metrics.r2_score(y_test, predict), 4))\n",
        "print(f'Train Score : {model.score(x_train, y_train) * 100:.2f}% and Test Score : {model.score(x_test, y_test) * 100:.2f}% using Random Tree Regressor.')\n",
        "errors = abs(predict - y_test)\n",
        "mape = 100 * (errors / y_test)\n",
        "accuracy = 100 - np.mean(mape)\n",
        "print('Accuracy:', round(accuracy, 2), '%.') "
      ],
      "metadata": {
        "id": "jT147bgk4fPq",
        "colab": {
          "base_uri": "https://localhost:8080/"
        },
        "outputId": "0250e26c-dc2e-46bd-8322-c6f309d1368d"
      },
      "execution_count": null,
      "outputs": [
        {
          "output_type": "stream",
          "name": "stdout",
          "text": [
            "Mean Absolute Error: 0.0724\n",
            "Mean Squared Error: 0.1403\n",
            "Root Mean Squared Error: 0.3746\n",
            "(R^2) Score: 0.9999\n",
            "Train Score : 100.00% and Test Score : 99.99% using Random Tree Regressor.\n",
            "Accuracy: 99.82 %.\n"
          ]
        }
      ]
    },
    {
      "cell_type": "code",
      "source": [
        "predictions = pd.DataFrame({\"Predictions\": predict}, index=pd.date_range(start=NVDA.index[-1], periods=len(predict), freq=\"D\"))\n",
        "predictions.to_csv(\"Predicted-price-data.csv\")\n",
        "#colllects future days from predicted values\n",
        "oneyear_NVDA = pd.DataFrame(predictions[:252])\n",
        "oneyear_NVDA.to_csv(\"one-year-predictions.csv\")\n",
        "onemonth_NVDA = pd.DataFrame(predictions[:21])\n",
        "onemonth_NVDA.to_csv(\"one-month-predictions.csv\")\n",
        "fivedays_NVDA = pd.DataFrame(predictions[:5])\n",
        "fivedays_NVDA.to_csv(\"five-days-predictions.csv\")"
      ],
      "metadata": {
        "id": "AvVl36d74ijR"
      },
      "execution_count": null,
      "outputs": []
    },
    {
      "cell_type": "code",
      "source": [
        "oneyear_NVDA_pred = pd.read_csv(\"one-year-predictions.csv\")\n",
        "buy_price = min(oneyear_NVDA_pred[\"Predictions\"])\n",
        "sell_price = max(oneyear_NVDA_pred[\"Predictions\"])\n",
        "oneyear_buy = oneyear_NVDA_pred.loc[oneyear_NVDA_pred[\"Predictions\"] == buy_price]\n",
        "oneyear_sell = oneyear_NVDA_pred.loc[oneyear_NVDA_pred[\"Predictions\"] == sell_price]\n",
        "print(\"Buy price and date\")\n",
        "print(oneyear_buy)\n",
        "print(\"Sell price and date\")\n",
        "print(oneyear_sell)\n",
        "oneyear_NVDA_pred[\"Predictions\"].plot(figsize=(10, 5), title=\"Forecast for the next 1 year\", color=\"blue\")\n",
        "plt.xlabel(\"Date\")\n",
        "plt.ylabel(\"Price\")\n",
        "plt.legend()\n",
        "plt.show()"
      ],
      "metadata": {
        "id": "DR5BA8_I4pxN",
        "colab": {
          "base_uri": "https://localhost:8080/",
          "height": 479
        },
        "outputId": "7ac1bdc9-db1b-4255-8ac6-344720a85034"
      },
      "execution_count": null,
      "outputs": [
        {
          "output_type": "stream",
          "name": "stdout",
          "text": [
            "Buy price and date\n",
            "     Unnamed: 0  Predictions\n",
            "96   2022-06-18     0.756454\n",
            "219  2022-10-19     0.756454\n",
            "Sell price and date\n",
            "     Unnamed: 0  Predictions\n",
            "242  2022-11-11   316.765336\n"
          ]
        },
        {
          "output_type": "display_data",
          "data": {
            "text/plain": [
              "<Figure size 720x360 with 1 Axes>"
            ],
            "image/png": "[encoded data removed]"
          },
          "metadata": {
            "needs_background": "light"
          }
        }
      ]
    },
    {
      "cell_type": "code",
      "source": [
        "onemonth_NVDA_pred = pd.read_csv(\"one-month-predictions.csv\")\n",
        "buy_price = min(onemonth_NVDA_pred[\"Predictions\"])\n",
        "sell_price = max(onemonth_NVDA_pred[\"Predictions\"])\n",
        "onemonth_buy = onemonth_NVDA_pred.loc[onemonth_NVDA_pred[\"Predictions\"] == buy_price]\n",
        "onemonth_sell = onemonth_NVDA_pred.loc[onemonth_NVDA_pred[\"Predictions\"] == sell_price]\n",
        "print(\"Buy price and date\")\n",
        "print(onemonth_buy)\n",
        "print(\"Sell price and date\")\n",
        "print(onemonth_sell)\n",
        "onemonth_NVDA_pred[\"Predictions\"].plot(figsize=(10, 5), title=\"Forecast for the next 1 month\", color=\"blue\")\n",
        "plt.xlabel(\"Date\")\n",
        "plt.ylabel(\"Price\")\n",
        "plt.legend()\n",
        "plt.show()"
      ],
      "metadata": {
        "id": "rFK3Y5Na4zcW",
        "colab": {
          "base_uri": "https://localhost:8080/",
          "height": 460
        },
        "outputId": "b59c6517-8de5-4ca8-dd07-f4bf4165f498"
      },
      "execution_count": null,
      "outputs": [
        {
          "output_type": "stream",
          "name": "stdout",
          "text": [
            "Buy price and date\n",
            "   Unnamed: 0  Predictions\n",
            "0  2022-03-14     1.041947\n",
            "Sell price and date\n",
            "   Unnamed: 0  Predictions\n",
            "1  2022-03-15    222.99005\n"
          ]
        },
        {
          "output_type": "display_data",
          "data": {
            "text/plain": [
              "<Figure size 720x360 with 1 Axes>"
            ],
            "image/png": "[encoded data removed]"
          },
          "metadata": {
            "needs_background": "light"
          }
        }
      ]
    },
    {
      "cell_type": "code",
      "source": [
        "fivedays_NVDA_pred = pd.read_csv(\"five-days-predictions.csv\")\n",
        "buy_price = min(fivedays_NVDA_pred[\"Predictions\"])\n",
        "sell_price = max(fivedays_NVDA_pred[\"Predictions\"])\n",
        "fivedays_buy = fivedays_NVDA_pred.loc[fivedays_NVDA_pred[\"Predictions\"] == buy_price]\n",
        "fivedays_sell = fivedays_NVDA_pred.loc[fivedays_NVDA_pred[\"Predictions\"] == sell_price]\n",
        "print(\"Buy price and date\")\n",
        "print(fivedays_buy)\n",
        "print(\"Sell price and date\")\n",
        "print(fivedays_sell)\n",
        "fivedays_NVDA_pred[\"Predictions\"].plot(figsize=(10, 5), title=\"Forecast for the next 5 days\", color=\"blue\")\n",
        "plt.xlabel(\"Date\")\n",
        "plt.ylabel(\"Price\")\n",
        "plt.legend()\n",
        "plt.show()"
      ],
      "metadata": {
        "id": "cUWABqW44-fC",
        "colab": {
          "base_uri": "https://localhost:8080/",
          "height": 460
        },
        "outputId": "9238009f-04f7-4290-976d-e54aeaf482d8"
      },
      "execution_count": null,
      "outputs": [
        {
          "output_type": "stream",
          "name": "stdout",
          "text": [
            "Buy price and date\n",
            "   Unnamed: 0  Predictions\n",
            "0  2022-03-14     1.041947\n",
            "Sell price and date\n",
            "   Unnamed: 0  Predictions\n",
            "1  2022-03-15    222.99005\n"
          ]
        },
        {
          "output_type": "display_data",
          "data": {
            "text/plain": [
              "<Figure size 720x360 with 1 Axes>"
            ],
            "image/png": "[encoded data removed]"
          },
          "metadata": {
            "needs_background": "light"
          }
        }
      ]
    }
  ]
}