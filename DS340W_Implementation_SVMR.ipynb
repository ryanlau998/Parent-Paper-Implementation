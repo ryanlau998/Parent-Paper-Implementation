{
  "nbformat": 4,
  "nbformat_minor": 0,
  "metadata": {
    "colab": {
      "name": "DS340W-Implementation-SVMR.ipynb",
      "provenance": []
    },
    "kernelspec": {
      "name": "python3",
      "display_name": "Python 3"
    },
    "language_info": {
      "name": "python"
    }
  },
  "cells": [
    {
      "cell_type": "code",
      "execution_count": 1,
      "metadata": {
        "colab": {
          "base_uri": "https://localhost:8080/"
        },
        "id": "NzcK-4rSgg-P",
        "outputId": "3f93a9be-7bd9-4c12-f9d2-52205ddd96ed"
      },
      "outputs": [
        {
          "output_type": "stream",
          "name": "stdout",
          "text": [
            "Mounted at /content/drive\n"
          ]
        }
      ],
      "source": [
        "from google.colab import drive\n",
        "drive.mount('/content/drive')"
      ]
    },
    {
      "cell_type": "code",
      "source": [
        "import math\n",
        "import numpy as np\n",
        "import pandas as pd\n",
        "import matplotlib.pyplot as plt\n",
        "\n",
        "from sklearn.metrics import mean_squared_error, mean_absolute_error\n",
        "import warnings\n",
        "warnings.filterwarnings('ignore')"
      ],
      "metadata": {
        "id": "sO7q00RmgnWz"
      },
      "execution_count": 2,
      "outputs": []
    },
    {
      "cell_type": "code",
      "source": [
        "INTC = pd.read_csv(\"/content/drive/MyDrive/DS340W/INTC.csv\")\n",
        "AMD = pd.read_csv(\"/content/drive/MyDrive/DS340W/AMD.csv\")\n",
        "NVDA = pd.read_csv(\"/content/drive/MyDrive/DS340W/NVDA.csv\")"
      ],
      "metadata": {
        "id": "9y8sh-Bqgrli"
      },
      "execution_count": 15,
      "outputs": []
    },
    {
      "cell_type": "markdown",
      "source": [
        "# AMD\n"
      ],
      "metadata": {
        "id": "_IcYuXFYsMoA"
      }
    },
    {
      "cell_type": "code",
      "source": [
        "AMD = AMD[['Open']]"
      ],
      "metadata": {
        "id": "Zl1ro60JyY_u"
      },
      "execution_count": 16,
      "outputs": []
    },
    {
      "cell_type": "code",
      "source": [
        "AMD['Prediction'] = AMD[['Open']].shift(-15)\n",
        "print(AMD)"
      ],
      "metadata": {
        "colab": {
          "base_uri": "https://localhost:8080/"
        },
        "id": "98TK-u73sN8y",
        "outputId": "d8afed11-44e5-4e8b-e30c-9da889df6220"
      },
      "execution_count": 17,
      "outputs": [
        {
          "output_type": "stream",
          "name": "stdout",
          "text": [
            "            Open  Prediction\n",
            "0      14.968750    17.28125\n",
            "1      15.125000    18.81250\n",
            "2      14.531250    19.00000\n",
            "3      15.500000    18.59375\n",
            "4      15.406250    17.62500\n",
            "...          ...         ...\n",
            "5580  102.809998         NaN\n",
            "5581  108.410004         NaN\n",
            "5582  108.889999         NaN\n",
            "5583  108.129997         NaN\n",
            "5584  102.989998         NaN\n",
            "\n",
            "[5585 rows x 2 columns]\n"
          ]
        }
      ]
    },
    {
      "cell_type": "code",
      "source": [
        "X = np.array(AMD.drop(['Prediction'], 1))\n",
        "\n",
        "X = X[:-15]\n",
        "\n",
        "print(X)"
      ],
      "metadata": {
        "colab": {
          "base_uri": "https://localhost:8080/"
        },
        "id": "_bj2L5jRspSD",
        "outputId": "0e27c766-6c06-46ab-977f-3dbffa66b935"
      },
      "execution_count": 18,
      "outputs": [
        {
          "output_type": "stream",
          "name": "stdout",
          "text": [
            "[[ 14.96875 ]\n",
            " [ 15.125   ]\n",
            " [ 14.53125 ]\n",
            " ...\n",
            " [119.050003]\n",
            " [116.260002]\n",
            " [113.900002]]\n"
          ]
        }
      ]
    },
    {
      "cell_type": "code",
      "source": [
        "Y = np.array(AMD['Prediction'])\n",
        "Y = Y[:-15]\n",
        "print(Y)"
      ],
      "metadata": {
        "colab": {
          "base_uri": "https://localhost:8080/"
        },
        "id": "2mnykXV8swaz",
        "outputId": "2b640201-1f1e-456b-f37a-fe187d44b88a"
      },
      "execution_count": 19,
      "outputs": [
        {
          "output_type": "stream",
          "name": "stdout",
          "text": [
            "[ 17.28125   18.8125    19.       ... 108.889999 108.129997 102.989998]\n"
          ]
        }
      ]
    },
    {
      "cell_type": "code",
      "source": [
        "from sklearn.model_selection import train_test_split\n",
        "from sklearn.svm import SVR\n",
        "x_train, x_test, y_train, y_test = train_test_split(X, Y, test_size=0.1)"
      ],
      "metadata": {
        "id": "Zwt5e79VzgPH"
      },
      "execution_count": 20,
      "outputs": []
    },
    {
      "cell_type": "code",
      "source": [
        "svr = SVR(kernel ='rbf', C = 1e3, gamma = 0.1)\n",
        "svr.fit(x_train, y_train)"
      ],
      "metadata": {
        "colab": {
          "base_uri": "https://localhost:8080/"
        },
        "id": "LxSaRD0kzzbH",
        "outputId": "5eeca096-6cea-473c-ee6b-d02f88d8996c"
      },
      "execution_count": 21,
      "outputs": [
        {
          "output_type": "execute_result",
          "data": {
            "text/plain": [
              "SVR(C=1000.0, gamma=0.1)"
            ]
          },
          "metadata": {},
          "execution_count": 21
        }
      ]
    },
    {
      "cell_type": "code",
      "source": [
        "svm_confidence = svr.score(x_test, y_test)\n",
        "print(\"svm confidence: \", svm_confidence)"
      ],
      "metadata": {
        "colab": {
          "base_uri": "https://localhost:8080/"
        },
        "id": "9IBo3oSY1yNA",
        "outputId": "ace5e0be-66ac-44a5-aff9-30b4f4154833"
      },
      "execution_count": 22,
      "outputs": [
        {
          "output_type": "stream",
          "name": "stdout",
          "text": [
            "svm confidence:  0.9702112408351169\n"
          ]
        }
      ]
    },
    {
      "cell_type": "code",
      "source": [
        "forecast = np.array(AMD.drop(['Prediction'],1))[-15:]\n",
        "print(forecast)"
      ],
      "metadata": {
        "colab": {
          "base_uri": "https://localhost:8080/"
        },
        "id": "iptSP1Nl16fs",
        "outputId": "7701b6ea-ed37-4273-bb25-f9b4b4337d0e"
      },
      "execution_count": 24,
      "outputs": [
        {
          "output_type": "stream",
          "name": "stdout",
          "text": [
            "[[115.269997]\n",
            " [117.400002]\n",
            " [104.559998]\n",
            " [117.160004]\n",
            " [120.309998]\n",
            " [122.330002]\n",
            " [115.470001]\n",
            " [118.129997]\n",
            " [112.      ]\n",
            " [108.529999]\n",
            " [102.809998]\n",
            " [108.410004]\n",
            " [108.889999]\n",
            " [108.129997]\n",
            " [102.989998]]\n"
          ]
        }
      ]
    },
    {
      "cell_type": "code",
      "source": [
        "svm_prediction = svr.predict(forecast)\n",
        "print(svm_prediction)"
      ],
      "metadata": {
        "colab": {
          "base_uri": "https://localhost:8080/"
        },
        "id": "IyOS2L-_2OTu",
        "outputId": "cb0b4876-f60f-4647-b8fd-554f0bbca6c0"
      },
      "execution_count": 26,
      "outputs": [
        {
          "output_type": "stream",
          "name": "stdout",
          "text": [
            "[115.56766701 107.27133616 108.66808245 108.69046166 132.28694952\n",
            " 148.08887991 115.31597302 104.42005603 116.54691822 108.42305324\n",
            " 106.4345708  108.76545236 107.2779347  109.383575   106.49343938]\n"
          ]
        }
      ]
    }
  ]
}